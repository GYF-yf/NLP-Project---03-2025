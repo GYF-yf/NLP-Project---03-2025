{
  "cells": [
    {
      "cell_type": "markdown",
      "metadata": {
        "id": "r_YTNjOQ3EbE"
      },
      "source": [
        "Dear professor,\n",
        "I conducted my procession in kaggle environment due to the GPU limitation of Google Colab.\n",
        "But I changed the code so you can run directly in Colab environment. Thank you!"
      ]
    },
    {
      "cell_type": "markdown",
      "metadata": {
        "id": "8BRBH0AaeXWj"
      },
      "source": [
        "# Project3-Part2"
      ]
    },
    {
      "cell_type": "code",
      "execution_count": null,
      "metadata": {
        "execution": {
          "iopub.execute_input": "2025-03-11T17:28:08.433780Z",
          "iopub.status.busy": "2025-03-11T17:28:08.433492Z",
          "iopub.status.idle": "2025-03-11T17:28:08.437246Z",
          "shell.execute_reply": "2025-03-11T17:28:08.436407Z",
          "shell.execute_reply.started": "2025-03-11T17:28:08.433754Z"
        },
        "id": "QEnyt9lQeUo2",
        "trusted": true
      },
      "outputs": [],
      "source": [
        "from google.colab import drive\n",
        "drive.mount('/content/drive')"
      ]
    },
    {
      "cell_type": "code",
      "execution_count": null,
      "metadata": {
        "colab": {
          "base_uri": "https://localhost:8080/"
        },
        "execution": {
          "iopub.execute_input": "2025-03-11T17:28:08.438494Z",
          "iopub.status.busy": "2025-03-11T17:28:08.438297Z",
          "iopub.status.idle": "2025-03-11T17:28:16.828080Z",
          "shell.execute_reply": "2025-03-11T17:28:16.827342Z",
          "shell.execute_reply.started": "2025-03-11T17:28:08.438469Z"
        },
        "id": "LqRkN6Umea7S",
        "outputId": "92207152-964b-4e15-d160-403c9c891658",
        "trusted": true
      },
      "outputs": [
        {
          "name": "stdout",
          "output_type": "stream",
          "text": [
            "[nltk_data] Downloading package stopwords to /usr/share/nltk_data...\n",
            "[nltk_data]   Unzipping corpora/stopwords.zip.\n",
            "[nltk_data] Downloading package averaged_perceptron_tagger to\n",
            "[nltk_data]     /usr/share/nltk_data...\n",
            "[nltk_data]   Package averaged_perceptron_tagger is already up-to-\n",
            "[nltk_data]       date!\n",
            "[nltk_data] Downloading package averaged_perceptron_tagger_eng to\n",
            "[nltk_data]     /usr/share/nltk_data...\n",
            "[nltk_data]   Unzipping taggers/averaged_perceptron_tagger_eng.zip.\n",
            "[nltk_data] Downloading package wordnet to /usr/share/nltk_data...\n",
            "[nltk_data]   Package wordnet is already up-to-date!\n",
            "[nltk_data] Downloading package opinion_lexicon to\n",
            "[nltk_data]     /usr/share/nltk_data...\n",
            "[nltk_data]   Package opinion_lexicon is already up-to-date!\n",
            "[nltk_data] Downloading package omw-1.4 to /usr/share/nltk_data...\n",
            "[nltk_data] Downloading package punkt to /usr/share/nltk_data...\n",
            "[nltk_data]   Package punkt is already up-to-date!\n",
            "[nltk_data] Downloading package punkt_tab to /usr/share/nltk_data...\n",
            "[nltk_data]   Unzipping tokenizers/punkt_tab.zip.\n"
          ]
        }
      ],
      "source": [
        "# suppress warnings\n",
        "import warnings;\n",
        "warnings.filterwarnings('ignore');\n",
        "\n",
        "# common imports\n",
        "import pandas as pd\n",
        "import numpy as np\n",
        "import math\n",
        "import re\n",
        "import glob\n",
        "import os\n",
        "import sys\n",
        "import json\n",
        "import random\n",
        "import pprint as pp\n",
        "import textwrap\n",
        "import sqlite3\n",
        "import logging\n",
        "\n",
        "import spacy\n",
        "import nltk\n",
        "\n",
        "from tqdm.auto import tqdm\n",
        "# register `pandas.progress_apply` and `pandas.Series.map_apply` with `tqdm`\n",
        "tqdm.pandas()\n",
        "\n",
        "# pandas display options\n",
        "# https://pandas.pydata.org/pandas-docs/stable/user_guide/options.html#available-options\n",
        "pd.options.display.max_columns = 30 # default 20\n",
        "pd.options.display.max_rows = 60 # default 60\n",
        "pd.options.display.float_format = '{:.2f}'.format\n",
        "# pd.options.display.precision = 2\n",
        "pd.options.display.max_colwidth = 200 # default 50; -1 = all\n",
        "# otherwise text between $ signs will be interpreted as formula and printed in italic\n",
        "pd.set_option('display.html.use_mathjax', False)\n",
        "\n",
        "# np.set_printoptions(edgeitems=3) # default 3\n",
        "\n",
        "import matplotlib\n",
        "from matplotlib import pyplot as plt\n",
        "\n",
        "plot_params = {'figure.figsize': (8, 4),\n",
        "               'axes.labelsize': 'large',\n",
        "               'axes.titlesize': 'large',\n",
        "               'xtick.labelsize': 'large',\n",
        "               'ytick.labelsize':'large',\n",
        "               'figure.dpi': 100}\n",
        "# adjust matplotlib defaults\n",
        "matplotlib.rcParams.update(plot_params)\n",
        "\n",
        "import seaborn as sns\n",
        "sns.set_style(\"darkgrid\")\n",
        "\n",
        "import pandas as pd\n",
        "from sklearn import preprocessing\n",
        "import nltk\n",
        "nltk.download('stopwords')\n",
        "nltk.download('averaged_perceptron_tagger')\n",
        "nltk.download('averaged_perceptron_tagger_eng')\n",
        "nltk.download('wordnet')\n",
        "nltk.download('opinion_lexicon')\n",
        "nltk.download('omw-1.4')\n",
        "nltk.download('punkt')\n",
        "nltk.download('punkt_tab')\n",
        "\n",
        "import locale\n",
        "def getpreferredencoding(do_setlocale = True):\n",
        "    return \"UTF-8\"\n",
        "locale.getpreferredencoding = getpreferredencoding"
      ]
    },
    {
      "cell_type": "code",
      "execution_count": null,
      "metadata": {
        "execution": {
          "iopub.execute_input": "2025-03-11T17:28:16.830069Z",
          "iopub.status.busy": "2025-03-11T17:28:16.829640Z",
          "iopub.status.idle": "2025-03-11T17:28:17.484432Z",
          "shell.execute_reply": "2025-03-11T17:28:17.483463Z",
          "shell.execute_reply.started": "2025-03-11T17:28:16.830047Z"
        },
        "id": "p9WzAMcIerMz",
        "trusted": true
      },
      "outputs": [],
      "source": [
        "try:\n",
        "  import transformers\n",
        "except:\n",
        "  !pip install transformers\n",
        "  import transformers"
      ]
    },
    {
      "cell_type": "code",
      "execution_count": null,
      "metadata": {
        "execution": {
          "iopub.execute_input": "2025-03-11T17:28:17.485928Z",
          "iopub.status.busy": "2025-03-11T17:28:17.485724Z",
          "iopub.status.idle": "2025-03-11T17:28:23.361751Z",
          "shell.execute_reply": "2025-03-11T17:28:23.360773Z",
          "shell.execute_reply.started": "2025-03-11T17:28:17.485910Z"
        },
        "id": "U9B2dt9nerKM",
        "trusted": true,
        "outputId": "21368fb6-2910-4594-cf1c-83ff7713acc5"
      },
      "outputs": [
        {
          "name": "stdout",
          "output_type": "stream",
          "text": [
            "Collecting textacy\n",
            "  Downloading textacy-0.13.0-py3-none-any.whl.metadata (5.3 kB)\n",
            "Requirement already satisfied: cachetools>=4.0.0 in /usr/local/lib/python3.10/dist-packages (from textacy) (5.5.0)\n",
            "Requirement already satisfied: catalogue~=2.0 in /usr/local/lib/python3.10/dist-packages (from textacy) (2.0.10)\n",
            "Requirement already satisfied: cytoolz>=0.10.1 in /usr/local/lib/python3.10/dist-packages (from textacy) (1.0.1)\n",
            "Collecting floret~=0.10.0 (from textacy)\n",
            "  Downloading floret-0.10.5-cp310-cp310-manylinux_2_17_x86_64.manylinux2014_x86_64.whl.metadata (3.1 kB)\n",
            "Requirement already satisfied: jellyfish>=0.8.0 in /usr/local/lib/python3.10/dist-packages (from textacy) (1.1.0)\n",
            "Requirement already satisfied: joblib>=0.13.0 in /usr/local/lib/python3.10/dist-packages (from textacy) (1.4.2)\n",
            "Requirement already satisfied: networkx>=2.7 in /usr/local/lib/python3.10/dist-packages (from textacy) (3.4.2)\n",
            "Requirement already satisfied: numpy>=1.17.0 in /usr/local/lib/python3.10/dist-packages (from textacy) (1.26.4)\n",
            "Collecting pyphen>=0.10.0 (from textacy)\n",
            "  Downloading pyphen-0.17.2-py3-none-any.whl.metadata (3.2 kB)\n",
            "Requirement already satisfied: requests>=2.10.0 in /usr/local/lib/python3.10/dist-packages (from textacy) (2.32.3)\n",
            "Requirement already satisfied: scipy>=1.8.0 in /usr/local/lib/python3.10/dist-packages (from textacy) (1.13.1)\n",
            "Requirement already satisfied: scikit-learn>=1.0 in /usr/local/lib/python3.10/dist-packages (from textacy) (1.2.2)\n",
            "Requirement already satisfied: spacy~=3.0 in /usr/local/lib/python3.10/dist-packages (from textacy) (3.7.5)\n",
            "Requirement already satisfied: tqdm>=4.19.6 in /usr/local/lib/python3.10/dist-packages (from textacy) (4.67.1)\n",
            "Requirement already satisfied: toolz>=0.8.0 in /usr/local/lib/python3.10/dist-packages (from cytoolz>=0.10.1->textacy) (0.12.1)\n",
            "Requirement already satisfied: mkl_fft in /usr/local/lib/python3.10/dist-packages (from numpy>=1.17.0->textacy) (1.3.8)\n",
            "Requirement already satisfied: mkl_random in /usr/local/lib/python3.10/dist-packages (from numpy>=1.17.0->textacy) (1.2.4)\n",
            "Requirement already satisfied: mkl_umath in /usr/local/lib/python3.10/dist-packages (from numpy>=1.17.0->textacy) (0.1.1)\n",
            "Requirement already satisfied: mkl in /usr/local/lib/python3.10/dist-packages (from numpy>=1.17.0->textacy) (2025.0.1)\n",
            "Requirement already satisfied: tbb4py in /usr/local/lib/python3.10/dist-packages (from numpy>=1.17.0->textacy) (2022.0.0)\n",
            "Requirement already satisfied: mkl-service in /usr/local/lib/python3.10/dist-packages (from numpy>=1.17.0->textacy) (2.4.1)\n",
            "Requirement already satisfied: charset-normalizer<4,>=2 in /usr/local/lib/python3.10/dist-packages (from requests>=2.10.0->textacy) (3.4.1)\n",
            "Requirement already satisfied: idna<4,>=2.5 in /usr/local/lib/python3.10/dist-packages (from requests>=2.10.0->textacy) (3.10)\n",
            "Requirement already satisfied: urllib3<3,>=1.21.1 in /usr/local/lib/python3.10/dist-packages (from requests>=2.10.0->textacy) (2.3.0)\n",
            "Requirement already satisfied: certifi>=2017.4.17 in /usr/local/lib/python3.10/dist-packages (from requests>=2.10.0->textacy) (2025.1.31)\n",
            "Requirement already satisfied: threadpoolctl>=2.0.0 in /usr/local/lib/python3.10/dist-packages (from scikit-learn>=1.0->textacy) (3.5.0)\n",
            "Requirement already satisfied: spacy-legacy<3.1.0,>=3.0.11 in /usr/local/lib/python3.10/dist-packages (from spacy~=3.0->textacy) (3.0.12)\n",
            "Requirement already satisfied: spacy-loggers<2.0.0,>=1.0.0 in /usr/local/lib/python3.10/dist-packages (from spacy~=3.0->textacy) (1.0.5)\n",
            "Requirement already satisfied: murmurhash<1.1.0,>=0.28.0 in /usr/local/lib/python3.10/dist-packages (from spacy~=3.0->textacy) (1.0.11)\n",
            "Requirement already satisfied: cymem<2.1.0,>=2.0.2 in /usr/local/lib/python3.10/dist-packages (from spacy~=3.0->textacy) (2.0.10)\n",
            "Requirement already satisfied: preshed<3.1.0,>=3.0.2 in /usr/local/lib/python3.10/dist-packages (from spacy~=3.0->textacy) (3.0.9)\n",
            "Requirement already satisfied: thinc<8.3.0,>=8.2.2 in /usr/local/lib/python3.10/dist-packages (from spacy~=3.0->textacy) (8.2.5)\n",
            "Requirement already satisfied: wasabi<1.2.0,>=0.9.1 in /usr/local/lib/python3.10/dist-packages (from spacy~=3.0->textacy) (1.1.3)\n",
            "Requirement already satisfied: srsly<3.0.0,>=2.4.3 in /usr/local/lib/python3.10/dist-packages (from spacy~=3.0->textacy) (2.5.0)\n",
            "Requirement already satisfied: weasel<0.5.0,>=0.1.0 in /usr/local/lib/python3.10/dist-packages (from spacy~=3.0->textacy) (0.4.1)\n",
            "Requirement already satisfied: typer<1.0.0,>=0.3.0 in /usr/local/lib/python3.10/dist-packages (from spacy~=3.0->textacy) (0.15.1)\n",
            "Requirement already satisfied: pydantic!=1.8,!=1.8.1,<3.0.0,>=1.7.4 in /usr/local/lib/python3.10/dist-packages (from spacy~=3.0->textacy) (2.11.0a2)\n",
            "Requirement already satisfied: jinja2 in /usr/local/lib/python3.10/dist-packages (from spacy~=3.0->textacy) (3.1.4)\n",
            "Requirement already satisfied: setuptools in /usr/local/lib/python3.10/dist-packages (from spacy~=3.0->textacy) (75.1.0)\n",
            "Requirement already satisfied: packaging>=20.0 in /usr/local/lib/python3.10/dist-packages (from spacy~=3.0->textacy) (24.2)\n",
            "Requirement already satisfied: langcodes<4.0.0,>=3.2.0 in /usr/local/lib/python3.10/dist-packages (from spacy~=3.0->textacy) (3.5.0)\n",
            "Requirement already satisfied: language-data>=1.2 in /usr/local/lib/python3.10/dist-packages (from langcodes<4.0.0,>=3.2.0->spacy~=3.0->textacy) (1.3.0)\n",
            "Requirement already satisfied: annotated-types>=0.6.0 in /usr/local/lib/python3.10/dist-packages (from pydantic!=1.8,!=1.8.1,<3.0.0,>=1.7.4->spacy~=3.0->textacy) (0.7.0)\n",
            "Requirement already satisfied: pydantic-core==2.29.0 in /usr/local/lib/python3.10/dist-packages (from pydantic!=1.8,!=1.8.1,<3.0.0,>=1.7.4->spacy~=3.0->textacy) (2.29.0)\n",
            "Requirement already satisfied: typing-extensions>=4.12.2 in /usr/local/lib/python3.10/dist-packages (from pydantic!=1.8,!=1.8.1,<3.0.0,>=1.7.4->spacy~=3.0->textacy) (4.12.2)\n",
            "Requirement already satisfied: blis<0.8.0,>=0.7.8 in /usr/local/lib/python3.10/dist-packages (from thinc<8.3.0,>=8.2.2->spacy~=3.0->textacy) (0.7.11)\n",
            "Requirement already satisfied: confection<1.0.0,>=0.0.1 in /usr/local/lib/python3.10/dist-packages (from thinc<8.3.0,>=8.2.2->spacy~=3.0->textacy) (0.1.5)\n",
            "Requirement already satisfied: click>=8.0.0 in /usr/local/lib/python3.10/dist-packages (from typer<1.0.0,>=0.3.0->spacy~=3.0->textacy) (8.1.7)\n",
            "Requirement already satisfied: shellingham>=1.3.0 in /usr/local/lib/python3.10/dist-packages (from typer<1.0.0,>=0.3.0->spacy~=3.0->textacy) (1.5.4)\n",
            "Requirement already satisfied: rich>=10.11.0 in /usr/local/lib/python3.10/dist-packages (from typer<1.0.0,>=0.3.0->spacy~=3.0->textacy) (13.9.4)\n",
            "Requirement already satisfied: cloudpathlib<1.0.0,>=0.7.0 in /usr/local/lib/python3.10/dist-packages (from weasel<0.5.0,>=0.1.0->spacy~=3.0->textacy) (0.20.0)\n",
            "Requirement already satisfied: smart-open<8.0.0,>=5.2.1 in /usr/local/lib/python3.10/dist-packages (from weasel<0.5.0,>=0.1.0->spacy~=3.0->textacy) (7.0.5)\n",
            "Requirement already satisfied: MarkupSafe>=2.0 in /usr/local/lib/python3.10/dist-packages (from jinja2->spacy~=3.0->textacy) (3.0.2)\n",
            "Requirement already satisfied: intel-openmp>=2024 in /usr/local/lib/python3.10/dist-packages (from mkl->numpy>=1.17.0->textacy) (2024.2.0)\n",
            "Requirement already satisfied: tbb==2022.* in /usr/local/lib/python3.10/dist-packages (from mkl->numpy>=1.17.0->textacy) (2022.0.0)\n",
            "Requirement already satisfied: tcmlib==1.* in /usr/local/lib/python3.10/dist-packages (from tbb==2022.*->mkl->numpy>=1.17.0->textacy) (1.2.0)\n",
            "Requirement already satisfied: intel-cmplr-lib-rt in /usr/local/lib/python3.10/dist-packages (from mkl_umath->numpy>=1.17.0->textacy) (2024.2.0)\n",
            "Requirement already satisfied: intel-cmplr-lib-ur==2024.2.0 in /usr/local/lib/python3.10/dist-packages (from intel-openmp>=2024->mkl->numpy>=1.17.0->textacy) (2024.2.0)\n",
            "Requirement already satisfied: marisa-trie>=1.1.0 in /usr/local/lib/python3.10/dist-packages (from language-data>=1.2->langcodes<4.0.0,>=3.2.0->spacy~=3.0->textacy) (1.2.1)\n",
            "Requirement already satisfied: markdown-it-py>=2.2.0 in /usr/local/lib/python3.10/dist-packages (from rich>=10.11.0->typer<1.0.0,>=0.3.0->spacy~=3.0->textacy) (3.0.0)\n",
            "Requirement already satisfied: pygments<3.0.0,>=2.13.0 in /usr/local/lib/python3.10/dist-packages (from rich>=10.11.0->typer<1.0.0,>=0.3.0->spacy~=3.0->textacy) (2.19.1)\n",
            "Requirement already satisfied: wrapt in /usr/local/lib/python3.10/dist-packages (from smart-open<8.0.0,>=5.2.1->weasel<0.5.0,>=0.1.0->spacy~=3.0->textacy) (1.17.0)\n",
            "Requirement already satisfied: mdurl~=0.1 in /usr/local/lib/python3.10/dist-packages (from markdown-it-py>=2.2.0->rich>=10.11.0->typer<1.0.0,>=0.3.0->spacy~=3.0->textacy) (0.1.2)\n",
            "Downloading textacy-0.13.0-py3-none-any.whl (210 kB)\n",
            "\u001b[2K   \u001b[90m━━━━━━━━━━━━━━━━━━━━━━━━━━━━━━━━━━━━━━━━\u001b[0m \u001b[32m210.7/210.7 kB\u001b[0m \u001b[31m12.2 MB/s\u001b[0m eta \u001b[36m0:00:00\u001b[0m\n",
            "\u001b[?25hDownloading floret-0.10.5-cp310-cp310-manylinux_2_17_x86_64.manylinux2014_x86_64.whl (320 kB)\n",
            "\u001b[2K   \u001b[90m━━━━━━━━━━━━━━━━━━━━━━━━━━━━━━━━━━━━━━━━\u001b[0m \u001b[32m320.4/320.4 kB\u001b[0m \u001b[31m17.2 MB/s\u001b[0m eta \u001b[36m0:00:00\u001b[0m\n",
            "\u001b[?25hDownloading pyphen-0.17.2-py3-none-any.whl (2.1 MB)\n",
            "\u001b[2K   \u001b[90m━━━━━━━━━━━━━━━━━━━━━━━━━━━━━━━━━━━━━━━━\u001b[0m \u001b[32m2.1/2.1 MB\u001b[0m \u001b[31m34.6 MB/s\u001b[0m eta \u001b[36m0:00:00\u001b[0ma \u001b[36m0:00:01\u001b[0m\n",
            "\u001b[?25hInstalling collected packages: pyphen, floret, textacy\n",
            "Successfully installed floret-0.10.5 pyphen-0.17.2 textacy-0.13.0\n"
          ]
        }
      ],
      "source": [
        "try:\n",
        "  import textacy\n",
        "except:\n",
        "  !pip install textacy\n",
        "  import textacy"
      ]
    },
    {
      "cell_type": "code",
      "execution_count": null,
      "metadata": {
        "execution": {
          "iopub.execute_input": "2025-03-11T17:28:23.363399Z",
          "iopub.status.busy": "2025-03-11T17:28:23.362798Z",
          "iopub.status.idle": "2025-03-11T17:28:23.366900Z",
          "shell.execute_reply": "2025-03-11T17:28:23.365961Z",
          "shell.execute_reply.started": "2025-03-11T17:28:23.363361Z"
        },
        "id": "Z9rd94FeerGX",
        "trusted": true
      },
      "outputs": [],
      "source": [
        "BASE_DIR = '/content/drive/MyDrive/NLP_Final_Project3'\n",
        "os.chdir(BASE_DIR)"
      ]
    },
    {
      "cell_type": "code",
      "execution_count": null,
      "metadata": {
        "colab": {
          "base_uri": "https://localhost:8080/",
          "height": 112
        },
        "execution": {
          "iopub.execute_input": "2025-03-11T17:28:23.368061Z",
          "iopub.status.busy": "2025-03-11T17:28:23.367843Z",
          "iopub.status.idle": "2025-03-11T17:28:25.455341Z",
          "shell.execute_reply": "2025-03-11T17:28:25.454188Z",
          "shell.execute_reply.started": "2025-03-11T17:28:23.368042Z"
        },
        "id": "LJkg5y5serDw",
        "outputId": "ac4b779b-f7fb-4a37-c96d-ff480df2ff86",
        "trusted": true
      },
      "outputs": [
        {
          "data": {
            "text/html": [
              "<div>\n",
              "<style scoped>\n",
              "    .dataframe tbody tr th:only-of-type {\n",
              "        vertical-align: middle;\n",
              "    }\n",
              "\n",
              "    .dataframe tbody tr th {\n",
              "        vertical-align: top;\n",
              "    }\n",
              "\n",
              "    .dataframe thead th {\n",
              "        text-align: right;\n",
              "    }\n",
              "</style>\n",
              "<table border=\"1\" class=\"dataframe tex2jax_ignore\">\n",
              "  <thead>\n",
              "    <tr style=\"text-align: right;\">\n",
              "      <th></th>\n",
              "      <th>overall</th>\n",
              "      <th>verified</th>\n",
              "      <th>reviewTime</th>\n",
              "      <th>reviewerID</th>\n",
              "      <th>asin</th>\n",
              "      <th>reviewText</th>\n",
              "      <th>summary</th>\n",
              "      <th>unixReviewTime</th>\n",
              "    </tr>\n",
              "  </thead>\n",
              "  <tbody>\n",
              "    <tr>\n",
              "      <th>0</th>\n",
              "      <td>1</td>\n",
              "      <td>True</td>\n",
              "      <td>03 12, 2018</td>\n",
              "      <td>A3QY3THQ42WSCQ</td>\n",
              "      <td>B000YFSR5G</td>\n",
              "      <td>Waaaay too BIG</td>\n",
              "      <td>One Star</td>\n",
              "      <td>1520812800</td>\n",
              "    </tr>\n",
              "    <tr>\n",
              "      <th>1</th>\n",
              "      <td>1</td>\n",
              "      <td>True</td>\n",
              "      <td>03 12, 2018</td>\n",
              "      <td>A3QY3THQ42WSCQ</td>\n",
              "      <td>B000YFSR4W</td>\n",
              "      <td>Waaaay too BIG</td>\n",
              "      <td>One Star</td>\n",
              "      <td>1520812800</td>\n",
              "    </tr>\n",
              "  </tbody>\n",
              "</table>\n",
              "</div>"
            ],
            "text/plain": [
              "   overall  verified   reviewTime      reviewerID        asin      reviewText  \\\n",
              "0        1      True  03 12, 2018  A3QY3THQ42WSCQ  B000YFSR5G  Waaaay too BIG   \n",
              "1        1      True  03 12, 2018  A3QY3THQ42WSCQ  B000YFSR4W  Waaaay too BIG   \n",
              "\n",
              "    summary  unixReviewTime  \n",
              "0  One Star      1520812800  \n",
              "1  One Star      1520812800  "
            ]
          },
          "execution_count": 6,
          "metadata": {},
          "output_type": "execute_result"
        }
      ],
      "source": [
        "file = r\"./reviews_5_balanced.json.gz\"\n",
        "raw_df = pd.read_json(file, lines=True)\n",
        "raw_df.head(2)"
      ]
    },
    {
      "cell_type": "code",
      "execution_count": null,
      "metadata": {
        "execution": {
          "iopub.execute_input": "2025-03-11T17:28:25.457824Z",
          "iopub.status.busy": "2025-03-11T17:28:25.457580Z",
          "iopub.status.idle": "2025-03-11T17:28:25.492069Z",
          "shell.execute_reply": "2025-03-11T17:28:25.491250Z",
          "shell.execute_reply.started": "2025-03-11T17:28:25.457802Z"
        },
        "id": "w2_5ya0ferBQ",
        "trusted": true
      },
      "outputs": [],
      "source": [
        "df = raw_df.copy()"
      ]
    },
    {
      "cell_type": "code",
      "execution_count": null,
      "metadata": {
        "colab": {
          "base_uri": "https://localhost:8080/",
          "height": 230
        },
        "execution": {
          "iopub.execute_input": "2025-03-11T17:28:25.493631Z",
          "iopub.status.busy": "2025-03-11T17:28:25.493412Z",
          "iopub.status.idle": "2025-03-11T17:28:25.502643Z",
          "shell.execute_reply": "2025-03-11T17:28:25.501760Z",
          "shell.execute_reply.started": "2025-03-11T17:28:25.493612Z"
        },
        "id": "HuQXwnmceq_L",
        "outputId": "8199ab5f-8b41-4641-8558-13947e6c934e",
        "trusted": true
      },
      "outputs": [
        {
          "data": {
            "text/html": [
              "<div>\n",
              "<style scoped>\n",
              "    .dataframe tbody tr th:only-of-type {\n",
              "        vertical-align: middle;\n",
              "    }\n",
              "\n",
              "    .dataframe tbody tr th {\n",
              "        vertical-align: top;\n",
              "    }\n",
              "\n",
              "    .dataframe thead th {\n",
              "        text-align: right;\n",
              "    }\n",
              "</style>\n",
              "<table border=\"1\" class=\"dataframe tex2jax_ignore\">\n",
              "  <thead>\n",
              "    <tr style=\"text-align: right;\">\n",
              "      <th></th>\n",
              "      <th>overall</th>\n",
              "      <th>verified</th>\n",
              "      <th>reviewTime</th>\n",
              "      <th>reviewerID</th>\n",
              "      <th>asin</th>\n",
              "      <th>reviewText</th>\n",
              "      <th>summary</th>\n",
              "      <th>unixReviewTime</th>\n",
              "    </tr>\n",
              "  </thead>\n",
              "  <tbody>\n",
              "    <tr>\n",
              "      <th>0</th>\n",
              "      <td>1</td>\n",
              "      <td>True</td>\n",
              "      <td>03 12, 2018</td>\n",
              "      <td>A3QY3THQ42WSCQ</td>\n",
              "      <td>B000YFSR5G</td>\n",
              "      <td>Waaaay too BIG</td>\n",
              "      <td>One Star</td>\n",
              "      <td>1520812800</td>\n",
              "    </tr>\n",
              "    <tr>\n",
              "      <th>1</th>\n",
              "      <td>1</td>\n",
              "      <td>True</td>\n",
              "      <td>03 12, 2018</td>\n",
              "      <td>A3QY3THQ42WSCQ</td>\n",
              "      <td>B000YFSR4W</td>\n",
              "      <td>Waaaay too BIG</td>\n",
              "      <td>One Star</td>\n",
              "      <td>1520812800</td>\n",
              "    </tr>\n",
              "    <tr>\n",
              "      <th>2</th>\n",
              "      <td>1</td>\n",
              "      <td>True</td>\n",
              "      <td>02 8, 2017</td>\n",
              "      <td>A21HH0VIBKK80J</td>\n",
              "      <td>B000YFSR5G</td>\n",
              "      <td>Was terribly disappointed, the pants were way too large in the legs, my husband looked like he was wearing blown up clown pants.</td>\n",
              "      <td>Was terribly disappointed, the pants were way too large in ...</td>\n",
              "      <td>1486512000</td>\n",
              "    </tr>\n",
              "  </tbody>\n",
              "</table>\n",
              "</div>"
            ],
            "text/plain": [
              "   overall  verified   reviewTime      reviewerID        asin  \\\n",
              "0        1      True  03 12, 2018  A3QY3THQ42WSCQ  B000YFSR5G   \n",
              "1        1      True  03 12, 2018  A3QY3THQ42WSCQ  B000YFSR4W   \n",
              "2        1      True   02 8, 2017  A21HH0VIBKK80J  B000YFSR5G   \n",
              "\n",
              "                                                                                                                         reviewText  \\\n",
              "0                                                                                                                    Waaaay too BIG   \n",
              "1                                                                                                                    Waaaay too BIG   \n",
              "2  Was terribly disappointed, the pants were way too large in the legs, my husband looked like he was wearing blown up clown pants.   \n",
              "\n",
              "                                                          summary  \\\n",
              "0                                                        One Star   \n",
              "1                                                        One Star   \n",
              "2  Was terribly disappointed, the pants were way too large in ...   \n",
              "\n",
              "   unixReviewTime  \n",
              "0      1520812800  \n",
              "1      1520812800  \n",
              "2      1486512000  "
            ]
          },
          "execution_count": 8,
          "metadata": {},
          "output_type": "execute_result"
        }
      ],
      "source": [
        "df.head(3)"
      ]
    },
    {
      "cell_type": "code",
      "execution_count": null,
      "metadata": {
        "colab": {
          "base_uri": "https://localhost:8080/",
          "height": 258
        },
        "execution": {
          "iopub.execute_input": "2025-03-11T17:28:25.503613Z",
          "iopub.status.busy": "2025-03-11T17:28:25.503355Z",
          "iopub.status.idle": "2025-03-11T17:28:25.616234Z",
          "shell.execute_reply": "2025-03-11T17:28:25.615426Z",
          "shell.execute_reply.started": "2025-03-11T17:28:25.503594Z"
        },
        "id": "jG2-xc6yeq8w",
        "outputId": "66cf03fa-a135-47ff-a2c3-fc9d77738620",
        "trusted": true
      },
      "outputs": [
        {
          "data": {
            "text/html": [
              "<div>\n",
              "<style scoped>\n",
              "    .dataframe tbody tr th:only-of-type {\n",
              "        vertical-align: middle;\n",
              "    }\n",
              "\n",
              "    .dataframe tbody tr th {\n",
              "        vertical-align: top;\n",
              "    }\n",
              "\n",
              "    .dataframe thead th {\n",
              "        text-align: right;\n",
              "    }\n",
              "</style>\n",
              "<table border=\"1\" class=\"dataframe tex2jax_ignore\">\n",
              "  <thead>\n",
              "    <tr style=\"text-align: right;\">\n",
              "      <th></th>\n",
              "      <th>overall</th>\n",
              "      <th>verified</th>\n",
              "      <th>reviewerID</th>\n",
              "      <th>asin</th>\n",
              "      <th>text</th>\n",
              "      <th>summary</th>\n",
              "    </tr>\n",
              "  </thead>\n",
              "  <tbody>\n",
              "    <tr>\n",
              "      <th>163807</th>\n",
              "      <td>5</td>\n",
              "      <td>False</td>\n",
              "      <td>A2A8GHFXUG1B28</td>\n",
              "      <td>B0045Z4JAI</td>\n",
              "      <td>Good Decaf... it has a good flavour for a decaf :)</td>\n",
              "      <td>Nice!</td>\n",
              "    </tr>\n",
              "    <tr>\n",
              "      <th>195640</th>\n",
              "      <td>5</td>\n",
              "      <td>True</td>\n",
              "      <td>A1VU337W6PKAR3</td>\n",
              "      <td>B00K0TIC56</td>\n",
              "      <td>I could not ask for a better system for my small greenhouse, easy to set up and nozzles do very well</td>\n",
              "      <td>I could not ask for a better system for my small greenhouse</td>\n",
              "    </tr>\n",
              "    <tr>\n",
              "      <th>167820</th>\n",
              "      <td>4</td>\n",
              "      <td>True</td>\n",
              "      <td>A1Z5TT1BBSDLRM</td>\n",
              "      <td>B0012ORBT6</td>\n",
              "      <td>good product at a good price and saves a trip to the store</td>\n",
              "      <td>Four Stars</td>\n",
              "    </tr>\n",
              "    <tr>\n",
              "      <th>104268</th>\n",
              "      <td>1</td>\n",
              "      <td>False</td>\n",
              "      <td>A4PRXX2G8900X</td>\n",
              "      <td>B005SPI45U</td>\n",
              "      <td>I like the principle of a raw chip - something I can eat with my homemade salsa and guac - but these taste absolutely revolting.</td>\n",
              "      <td>No better alternatives but still tastes bad.</td>\n",
              "    </tr>\n",
              "    <tr>\n",
              "      <th>51961</th>\n",
              "      <td>1</td>\n",
              "      <td>True</td>\n",
              "      <td>AYETYLNYDIS2S</td>\n",
              "      <td>B00D1HLUP8</td>\n",
              "      <td>Fake China knockoff, you get what you pay for.</td>\n",
              "      <td>Definitely not OEM</td>\n",
              "    </tr>\n",
              "  </tbody>\n",
              "</table>\n",
              "</div>"
            ],
            "text/plain": [
              "        overall  verified      reviewerID        asin  \\\n",
              "163807        5     False  A2A8GHFXUG1B28  B0045Z4JAI   \n",
              "195640        5      True  A1VU337W6PKAR3  B00K0TIC56   \n",
              "167820        4      True  A1Z5TT1BBSDLRM  B0012ORBT6   \n",
              "104268        1     False   A4PRXX2G8900X  B005SPI45U   \n",
              "51961         1      True   AYETYLNYDIS2S  B00D1HLUP8   \n",
              "\n",
              "                                                                                                                                    text  \\\n",
              "163807                                                                                Good Decaf... it has a good flavour for a decaf :)   \n",
              "195640                              I could not ask for a better system for my small greenhouse, easy to set up and nozzles do very well   \n",
              "167820                                                                        good product at a good price and saves a trip to the store   \n",
              "104268  I like the principle of a raw chip - something I can eat with my homemade salsa and guac - but these taste absolutely revolting.   \n",
              "51961                                                                                     Fake China knockoff, you get what you pay for.   \n",
              "\n",
              "                                                            summary  \n",
              "163807                                                        Nice!  \n",
              "195640  I could not ask for a better system for my small greenhouse  \n",
              "167820                                                   Four Stars  \n",
              "104268                 No better alternatives but still tastes bad.  \n",
              "51961                                            Definitely not OEM  "
            ]
          },
          "execution_count": 9,
          "metadata": {},
          "output_type": "execute_result"
        }
      ],
      "source": [
        "df = df.drop(columns=['reviewTime','unixReviewTime'])\n",
        "df = df.rename(columns={'reviewText': 'text'})\n",
        "df.sample(5, random_state=12)"
      ]
    },
    {
      "cell_type": "code",
      "execution_count": null,
      "metadata": {
        "colab": {
          "base_uri": "https://localhost:8080/",
          "height": 143
        },
        "execution": {
          "iopub.execute_input": "2025-03-11T17:28:25.617220Z",
          "iopub.status.busy": "2025-03-11T17:28:25.616985Z",
          "iopub.status.idle": "2025-03-11T17:28:25.787722Z",
          "shell.execute_reply": "2025-03-11T17:28:25.787053Z",
          "shell.execute_reply.started": "2025-03-11T17:28:25.617191Z"
        },
        "id": "PT9OlznUeq6W",
        "outputId": "2cbd1fd3-da30-49a8-eba8-a0394f8dcb98",
        "trusted": true
      },
      "outputs": [
        {
          "data": {
            "text/html": [
              "<div>\n",
              "<style scoped>\n",
              "    .dataframe tbody tr th:only-of-type {\n",
              "        vertical-align: middle;\n",
              "    }\n",
              "\n",
              "    .dataframe tbody tr th {\n",
              "        vertical-align: top;\n",
              "    }\n",
              "\n",
              "    .dataframe thead th {\n",
              "        text-align: right;\n",
              "    }\n",
              "</style>\n",
              "<table border=\"1\" class=\"dataframe tex2jax_ignore\">\n",
              "  <thead>\n",
              "    <tr style=\"text-align: right;\">\n",
              "      <th></th>\n",
              "      <th>verified</th>\n",
              "      <th>asin</th>\n",
              "      <th>text</th>\n",
              "      <th>sentiment</th>\n",
              "    </tr>\n",
              "  </thead>\n",
              "  <tbody>\n",
              "    <tr>\n",
              "      <th>134217</th>\n",
              "      <td>False</td>\n",
              "      <td>B00PZZF9YM</td>\n",
              "      <td>Not a deal</td>\n",
              "      <td>0.00</td>\n",
              "    </tr>\n",
              "    <tr>\n",
              "      <th>203880</th>\n",
              "      <td>True</td>\n",
              "      <td>B006K3RXG0</td>\n",
              "      <td>Excellent</td>\n",
              "      <td>1.00</td>\n",
              "    </tr>\n",
              "    <tr>\n",
              "      <th>285337</th>\n",
              "      <td>True</td>\n",
              "      <td>B00EQEOBL0</td>\n",
              "      <td>good stuff</td>\n",
              "      <td>1.00</td>\n",
              "    </tr>\n",
              "  </tbody>\n",
              "</table>\n",
              "</div>"
            ],
            "text/plain": [
              "        verified        asin        text  sentiment\n",
              "134217     False  B00PZZF9YM  Not a deal       0.00\n",
              "203880      True  B006K3RXG0   Excellent       1.00\n",
              "285337      True  B00EQEOBL0  good stuff       1.00"
            ]
          },
          "execution_count": 10,
          "metadata": {},
          "output_type": "execute_result"
        }
      ],
      "source": [
        "pd.set_option('display.max_rows', None)\n",
        "pd.set_option('display.max_columns', None)\n",
        "pd.set_option('display.width', None)\n",
        "pd.set_option('display.max_colwidth', None)\n",
        "\n",
        "df = raw_df.copy()\n",
        "df = df.rename(columns={'reviewText': 'text'})\n",
        "\n",
        "# Assigning a new [1,0] target class label based on the product rating\n",
        "df.loc[df['overall'] > 3, 'sentiment'] = 1\n",
        "df.loc[df['overall'] < 3, 'sentiment'] = 0\n",
        "\n",
        "# Removing unecessary columns to keep a simple dataframe\n",
        "df.drop(columns=[\n",
        "    'reviewTime', 'unixReviewTime', 'overall', 'reviewerID', 'summary'],\n",
        "        inplace=True)\n",
        "df.sample(3)"
      ]
    },
    {
      "cell_type": "code",
      "execution_count": null,
      "metadata": {
        "execution": {
          "iopub.execute_input": "2025-03-11T17:28:25.788722Z",
          "iopub.status.busy": "2025-03-11T17:28:25.788521Z",
          "iopub.status.idle": "2025-03-11T17:28:26.496330Z",
          "shell.execute_reply": "2025-03-11T17:28:26.495642Z",
          "shell.execute_reply.started": "2025-03-11T17:28:25.788704Z"
        },
        "id": "ZqeODVACeq4L",
        "trusted": true
      },
      "outputs": [],
      "source": [
        "import tqdm\n",
        "import textacy\n",
        "import spacy\n",
        "from spacy.lang.en import STOP_WORDS as stop_words\n",
        "import string\n",
        "from nltk import pos_tag\n",
        "from nltk.corpus import stopwords\n",
        "from nltk.tokenize import WhitespaceTokenizer\n",
        "from nltk.stem import WordNetLemmatizer\n",
        "nlp = spacy.load(\"en_core_web_sm\")"
      ]
    },
    {
      "cell_type": "code",
      "execution_count": null,
      "metadata": {
        "execution": {
          "iopub.execute_input": "2025-03-11T17:28:26.497463Z",
          "iopub.status.busy": "2025-03-11T17:28:26.497145Z",
          "iopub.status.idle": "2025-03-11T17:28:26.502346Z",
          "shell.execute_reply": "2025-03-11T17:28:26.501538Z",
          "shell.execute_reply.started": "2025-03-11T17:28:26.497434Z"
        },
        "id": "qu6_nHYReq1m",
        "trusted": true
      },
      "outputs": [],
      "source": [
        "import html\n",
        "\n",
        "def clean(text):\n",
        "    # convert html escapes like &amp; to characters.\n",
        "    text = html.unescape(text)\n",
        "    # tags like <tab>\n",
        "    text = re.sub(r'<[^<>]*>', ' ', text)\n",
        "    # markdown URLs like [Some text](https://....)\n",
        "    text = re.sub(r'\\[([^\\[\\]]*)\\]\\([^\\(\\)]*\\)', r'\\1', text)\n",
        "    # text or code in brackets like [0]\n",
        "    text = re.sub(r'\\[[^\\[\\]]*\\]', ' ', text)\n",
        "    # standalone sequences of specials, matches &# but not #cool\n",
        "    text = re.sub(r'(?:^|\\s)[&#<>{}\\[\\]+|\\\\:-]{1,}(?:\\s|$)', ' ', text) #look around the sequence of interest  \"^\" & \"$\" stands resp. for beginning and end of a line or string \"?:\" stands for \"look around but don't capture\"\n",
        "    # standalone sequences of hyphens like --- or ==\n",
        "    text = re.sub(r'(?:^|\\s)[\\-=\\+]{2,}(?:\\s|$)', ' ', text)\n",
        "    # sequences of white spaces\n",
        "    text = re.sub(r'\\s+', ' ', text)\n",
        "    return text.strip()"
      ]
    },
    {
      "cell_type": "code",
      "execution_count": null,
      "metadata": {
        "execution": {
          "iopub.execute_input": "2025-03-11T17:28:26.503400Z",
          "iopub.status.busy": "2025-03-11T17:28:26.503116Z",
          "iopub.status.idle": "2025-03-11T17:28:29.955488Z",
          "shell.execute_reply": "2025-03-11T17:28:29.954808Z",
          "shell.execute_reply.started": "2025-03-11T17:28:26.503380Z"
        },
        "id": "6yDdElqfeqze",
        "trusted": true
      },
      "outputs": [],
      "source": [
        "df['text_orig'] = df['text'].copy()\n",
        "df['text'] = df['text'].apply(clean)"
      ]
    },
    {
      "cell_type": "code",
      "execution_count": null,
      "metadata": {
        "execution": {
          "iopub.execute_input": "2025-03-11T17:28:29.956552Z",
          "iopub.status.busy": "2025-03-11T17:28:29.956344Z",
          "iopub.status.idle": "2025-03-11T17:28:30.552985Z",
          "shell.execute_reply": "2025-03-11T17:28:30.552354Z",
          "shell.execute_reply.started": "2025-03-11T17:28:29.956534Z"
        },
        "id": "4mqX290Aeqw-",
        "trusted": true
      },
      "outputs": [],
      "source": [
        "# First method that performs Tokenization and Lemmatization by re-using the blueprint from Chapter 4\n",
        "# This can take longer to run due to the size of the dataset!\n",
        "import textacy\n",
        "import spacy\n",
        "from spacy.lang.en import STOP_WORDS as stop_words\n",
        "nlp = spacy.load(\"en_core_web_sm\")\n",
        "\n",
        "def extract_lemmas(doc, **kwargs):\n",
        "    return [t.lemma_ for t in textacy.extract.words(doc,\n",
        "                                                    filter_stops = False,\n",
        "                                                    filter_punct = True,\n",
        "                                                    filter_nums = True,\n",
        "                                                    include_pos = ['ADJ', 'NOUN', 'VERB', 'ADV'],\n",
        "                                                    exclude_pos = None,\n",
        "                                                    min_freq = 1)]\n",
        "\n",
        "def clean_text(text):\n",
        "    doc = nlp(text)\n",
        "    lemmas = extract_lemmas(doc)\n",
        "    return ' '.join(lemmas)"
      ]
    },
    {
      "cell_type": "code",
      "execution_count": null,
      "metadata": {
        "execution": {
          "iopub.execute_input": "2025-03-11T17:28:30.553949Z",
          "iopub.status.busy": "2025-03-11T17:28:30.553741Z",
          "iopub.status.idle": "2025-03-11T17:28:30.560786Z",
          "shell.execute_reply": "2025-03-11T17:28:30.559904Z",
          "shell.execute_reply.started": "2025-03-11T17:28:30.553932Z"
        },
        "id": "MNzccGldeqvG",
        "trusted": true
      },
      "outputs": [],
      "source": [
        "# Alternate method that uses Wordnet POS tags instead of spaCy - can run faster with similar accuracy\n",
        "# Tokenization and Lemmatization using wordnet. Re-uses parts of blueprint from Chapter 4\n",
        "# Uses wordnet POS tags instead of spaCy\n",
        "# return the wordnet object value corresponding to the POS tag\n",
        "from nltk.corpus import wordnet\n",
        "\n",
        "def get_wordnet_pos(pos_tag):\n",
        "    if pos_tag.startswith('J'):\n",
        "        return wordnet.ADJ\n",
        "    elif pos_tag.startswith('V'):\n",
        "        return wordnet.VERB\n",
        "    elif pos_tag.startswith('N'):\n",
        "        return wordnet.NOUN\n",
        "    elif pos_tag.startswith('R'):\n",
        "        return wordnet.ADV\n",
        "    else:\n",
        "        return wordnet.NOUN\n",
        "\n",
        "import string\n",
        "from nltk import pos_tag\n",
        "from nltk.corpus import stopwords\n",
        "from nltk.tokenize import WhitespaceTokenizer\n",
        "from nltk.stem import WordNetLemmatizer\n",
        "#nltk.download('averaged_perceptron_tagger')\n",
        "\n",
        "def clean_text_(text):\n",
        "    # lower text\n",
        "    text = text.lower()\n",
        "    # tokenize text and remove puncutation\n",
        "    text = [word.strip(string.punctuation) for word in text.split(\" \")]\n",
        "    # remove words that contain numbers\n",
        "    text = [word for word in text if not any(c.isdigit() for c in word)]\n",
        "    # remove stop words\n",
        "    stop = stopwords.words('english')\n",
        "    text = [x for x in text if x not in stop]\n",
        "    # remove empty tokens\n",
        "    text = [t for t in text if len(t) > 0]\n",
        "    # pos tag text\n",
        "    pos_tags = pos_tag(text)\n",
        "    # lemmatize text\n",
        "    text = [WordNetLemmatizer().lemmatize(t[0], get_wordnet_pos(t[1])) for t in pos_tags]\n",
        "    # remove words with only one letter\n",
        "    text = [t for t in text if len(t) > 1]\n",
        "    # join all\n",
        "    text = \" \".join(text)\n",
        "    return(text)"
      ]
    },
    {
      "cell_type": "code",
      "execution_count": null,
      "metadata": {
        "execution": {
          "iopub.execute_input": "2025-03-11T17:28:30.561706Z",
          "iopub.status.busy": "2025-03-11T17:28:30.561500Z",
          "iopub.status.idle": "2025-03-11T17:28:30.578810Z",
          "shell.execute_reply": "2025-03-11T17:28:30.578030Z",
          "shell.execute_reply.started": "2025-03-11T17:28:30.561676Z"
        },
        "id": "HY-SagWVeqsr",
        "trusted": true
      },
      "outputs": [],
      "source": [
        "from sklearn.model_selection import train_test_split"
      ]
    },
    {
      "cell_type": "code",
      "execution_count": null,
      "metadata": {
        "execution": {
          "iopub.execute_input": "2025-03-11T17:28:30.579917Z",
          "iopub.status.busy": "2025-03-11T17:28:30.579644Z",
          "iopub.status.idle": "2025-03-11T17:28:30.739326Z",
          "shell.execute_reply": "2025-03-11T17:28:30.738642Z",
          "shell.execute_reply.started": "2025-03-11T17:28:30.579889Z"
        },
        "id": "7xLKCG1HeqoQ",
        "trusted": true
      },
      "outputs": [],
      "source": [
        "df_60, df_40 = train_test_split(df, test_size=0.4, stratify=df['sentiment'], random_state=42)"
      ]
    },
    {
      "cell_type": "code",
      "execution_count": null,
      "metadata": {
        "execution": {
          "iopub.execute_input": "2025-03-11T17:28:30.740162Z",
          "iopub.status.busy": "2025-03-11T17:28:30.739965Z",
          "iopub.status.idle": "2025-03-11T17:28:35.338428Z",
          "shell.execute_reply": "2025-03-11T17:28:35.337551Z",
          "shell.execute_reply.started": "2025-03-11T17:28:30.740144Z"
        },
        "trusted": true,
        "id": "UYsBt7B83EbQ",
        "outputId": "c29e9ac0-337e-431e-bb53-6b67bc3bde8a"
      },
      "outputs": [
        {
          "name": "stdout",
          "output_type": "stream",
          "text": [
            "Requirement already satisfied: nltk in /usr/local/lib/python3.10/dist-packages (3.2.4)\n",
            "Collecting nltk\n",
            "  Downloading nltk-3.9.1-py3-none-any.whl.metadata (2.9 kB)\n",
            "Requirement already satisfied: click in /usr/local/lib/python3.10/dist-packages (from nltk) (8.1.7)\n",
            "Requirement already satisfied: joblib in /usr/local/lib/python3.10/dist-packages (from nltk) (1.4.2)\n",
            "Requirement already satisfied: regex>=2021.8.3 in /usr/local/lib/python3.10/dist-packages (from nltk) (2024.11.6)\n",
            "Requirement already satisfied: tqdm in /usr/local/lib/python3.10/dist-packages (from nltk) (4.67.1)\n",
            "Downloading nltk-3.9.1-py3-none-any.whl (1.5 MB)\n",
            "\u001b[2K   \u001b[90m━━━━━━━━━━━━━━━━━━━━━━━━━━━━━━━━━━━━━━━━\u001b[0m \u001b[32m1.5/1.5 MB\u001b[0m \u001b[31m40.8 MB/s\u001b[0m eta \u001b[36m0:00:00\u001b[0m00:01\u001b[0m\n",
            "\u001b[?25hInstalling collected packages: nltk\n",
            "  Attempting uninstall: nltk\n",
            "    Found existing installation: nltk 3.2.4\n",
            "    Uninstalling nltk-3.2.4:\n",
            "      Successfully uninstalled nltk-3.2.4\n",
            "\u001b[31mERROR: pip's dependency resolver does not currently take into account all the packages that are installed. This behaviour is the source of the following dependency conflicts.\n",
            "preprocessing 0.1.13 requires nltk==3.2.4, but you have nltk 3.9.1 which is incompatible.\u001b[0m\u001b[31m\n",
            "\u001b[0mSuccessfully installed nltk-3.9.1\n",
            "Note: you may need to restart the kernel to use updated packages.\n"
          ]
        }
      ],
      "source": [
        "pip install --upgrade nltk"
      ]
    },
    {
      "cell_type": "code",
      "execution_count": null,
      "metadata": {
        "execution": {
          "iopub.execute_input": "2025-03-11T17:28:35.342523Z",
          "iopub.status.busy": "2025-03-11T17:28:35.342256Z",
          "iopub.status.idle": "2025-03-11T17:28:35.399921Z",
          "shell.execute_reply": "2025-03-11T17:28:35.399307Z",
          "shell.execute_reply.started": "2025-03-11T17:28:35.342501Z"
        },
        "trusted": true,
        "id": "ePZCING43EbQ",
        "outputId": "0e3712b9-561b-49ce-9e7b-2bc097cba27c"
      },
      "outputs": [
        {
          "name": "stdout",
          "output_type": "stream",
          "text": [
            "[nltk_data] Downloading package wordnet to /usr/share/nltk_data...\n",
            "[nltk_data]   Package wordnet is already up-to-date!\n",
            "[nltk_data] Downloading package averaged_perceptron_tagger to\n",
            "[nltk_data]     /usr/share/nltk_data...\n",
            "[nltk_data]   Package averaged_perceptron_tagger is already up-to-\n",
            "[nltk_data]       date!\n",
            "[nltk_data] Downloading package omw-1.4 to /usr/share/nltk_data...\n",
            "[nltk_data]   Package omw-1.4 is already up-to-date!\n"
          ]
        },
        {
          "data": {
            "text/plain": [
              "True"
            ]
          },
          "execution_count": 19,
          "metadata": {},
          "output_type": "execute_result"
        }
      ],
      "source": [
        "import nltk\n",
        "nltk.download('wordnet')\n",
        "nltk.download('averaged_perceptron_tagger')\n",
        "nltk.download('omw-1.4')\n"
      ]
    },
    {
      "cell_type": "code",
      "execution_count": null,
      "metadata": {
        "execution": {
          "iopub.execute_input": "2025-03-11T17:28:35.401621Z",
          "iopub.status.busy": "2025-03-11T17:28:35.401423Z",
          "iopub.status.idle": "2025-03-11T17:28:35.865883Z",
          "shell.execute_reply": "2025-03-11T17:28:35.865101Z",
          "shell.execute_reply.started": "2025-03-11T17:28:35.401604Z"
        },
        "trusted": true,
        "id": "gpd2c4bu3EbQ",
        "outputId": "9b0ad38d-fc25-431e-8d0a-afa37b9696e5"
      },
      "outputs": [
        {
          "name": "stdout",
          "output_type": "stream",
          "text": [
            "[nltk_data] Downloading package wordnet to\n",
            "[nltk_data]     /kaggle/working/nltk_data/...\n",
            "[nltk_data] Downloading package averaged_perceptron_tagger to\n",
            "[nltk_data]     /kaggle/working/nltk_data/...\n",
            "[nltk_data]   Unzipping taggers/averaged_perceptron_tagger.zip.\n",
            "[nltk_data] Downloading package omw-1.4 to\n",
            "[nltk_data]     /kaggle/working/nltk_data/...\n"
          ]
        }
      ],
      "source": [
        "# import os  # do not need this in Colab environment\n",
        "# nltk_path = \"/kaggle/working/nltk_data/\"\n",
        "# os.makedirs(nltk_path, exist_ok=True)\n",
        "\n",
        "# nltk.download('wordnet', download_dir=nltk_path)\n",
        "# nltk.download('averaged_perceptron_tagger', download_dir=nltk_path)\n",
        "# nltk.download('omw-1.4', download_dir=nltk_path)\n",
        "# nltk.data.path.append(nltk_path)\n"
      ]
    },
    {
      "cell_type": "code",
      "execution_count": 1,
      "metadata": {
        "execution": {
          "iopub.execute_input": "2025-03-11T17:28:35.867049Z",
          "iopub.status.busy": "2025-03-11T17:28:35.866723Z",
          "iopub.status.idle": "2025-03-11T17:28:36.150375Z",
          "shell.execute_reply": "2025-03-11T17:28:36.149591Z",
          "shell.execute_reply.started": "2025-03-11T17:28:35.867014Z"
        },
        "id": "EfGeJrTXeqmK",
        "trusted": true
      },
      "outputs": [],
      "source": [
        "%%time\n",
        "# this one couldn't work in kaggle if don't download packages\n",
        "df_40[\"text\"] = df_40[\"text\"].apply(clean_text_)\n",
        "\n",
        "## Remove observations that are empty after the cleaning step\n",
        "df_40 = df_40[df_40['text'].str.len() != 0]"
      ]
    },
    {
      "cell_type": "code",
      "execution_count": null,
      "metadata": {
        "colab": {
          "base_uri": "https://localhost:8080/"
        },
        "execution": {
          "iopub.execute_input": "2025-03-11T17:28:36.151228Z",
          "iopub.status.busy": "2025-03-11T17:28:36.151000Z",
          "iopub.status.idle": "2025-03-11T17:28:36.235491Z",
          "shell.execute_reply": "2025-03-11T17:28:36.234784Z",
          "shell.execute_reply.started": "2025-03-11T17:28:36.151209Z"
        },
        "id": "GgXLjkT9eqjw",
        "outputId": "6c5c8eb1-31d3-4f2e-b9d4-6f4a6f9c8ebe",
        "trusted": true
      },
      "outputs": [
        {
          "name": "stdout",
          "output_type": "stream",
          "text": [
            "Size of Training Data  94156\n",
            "Size of Test Data  23540\n",
            "Distribution of classes in Training Data :\n",
            "Positive Sentiment  50.9792259654191\n",
            "Negative Sentiment  49.02077403458091\n",
            "Distribution of classes in Testing Data :\n",
            "Positive Sentiment  50.97706032285472\n",
            "Negative Sentiment  49.02293967714528\n"
          ]
        }
      ],
      "source": [
        "from sklearn.model_selection import train_test_split\n",
        "X_train, X_test, Y_train, Y_test = train_test_split(df_40['text'],\n",
        "                                                    df_40['sentiment'],\n",
        "                                                    test_size=0.2,\n",
        "                                                    random_state=42,\n",
        "                                                    stratify=df_40['sentiment'])\n",
        "\n",
        "print ('Size of Training Data ', X_train.shape[0])\n",
        "print ('Size of Test Data ', X_test.shape[0])\n",
        "\n",
        "print ('Distribution of classes in Training Data :')\n",
        "print ('Positive Sentiment ', Y_train.value_counts(normalize=True)[1] * 100.0)\n",
        "print ('Negative Sentiment ', Y_train.value_counts(normalize=True)[0] * 100.0)\n",
        "\n",
        "print ('Distribution of classes in Testing Data :')\n",
        "print ('Positive Sentiment ', sum(Y_test == 1)/ len(Y_test) * 100.0)\n",
        "print ('Negative Sentiment ', sum(Y_test == 0)/ len(Y_test) * 100.0)"
      ]
    },
    {
      "cell_type": "markdown",
      "metadata": {
        "id": "6c9FkmLVfXfq"
      },
      "source": [
        "### Method10-(BERT)Transformers"
      ]
    },
    {
      "cell_type": "code",
      "execution_count": null,
      "metadata": {
        "execution": {
          "iopub.execute_input": "2025-03-11T17:28:36.236642Z",
          "iopub.status.busy": "2025-03-11T17:28:36.236326Z",
          "iopub.status.idle": "2025-03-11T17:28:56.224135Z",
          "shell.execute_reply": "2025-03-11T17:28:56.223245Z",
          "shell.execute_reply.started": "2025-03-11T17:28:36.236612Z"
        },
        "id": "4tjc_df2fdYU",
        "trusted": true,
        "colab": {
          "referenced_widgets": [
            "a06acdd68b234eb687fa493679686e37",
            "66fe52917082423e9da360e03edb4057",
            "6af0a36697494b4ea3627347b7f3508e",
            "3f0f350c3acf4f6788a714d90eca93b1",
            "705ac87b133e40a38f16396e9a985606"
          ]
        },
        "outputId": "90262e56-7dce-4668-94ea-7a8c9e919cc5"
      },
      "outputs": [
        {
          "data": {
            "application/vnd.jupyter.widget-view+json": {
              "model_id": "a06acdd68b234eb687fa493679686e37",
              "version_major": 2,
              "version_minor": 0
            },
            "text/plain": [
              "tokenizer_config.json:   0%|          | 0.00/48.0 [00:00<?, ?B/s]"
            ]
          },
          "metadata": {},
          "output_type": "display_data"
        },
        {
          "data": {
            "application/vnd.jupyter.widget-view+json": {
              "model_id": "66fe52917082423e9da360e03edb4057",
              "version_major": 2,
              "version_minor": 0
            },
            "text/plain": [
              "vocab.txt:   0%|          | 0.00/232k [00:00<?, ?B/s]"
            ]
          },
          "metadata": {},
          "output_type": "display_data"
        },
        {
          "data": {
            "application/vnd.jupyter.widget-view+json": {
              "model_id": "6af0a36697494b4ea3627347b7f3508e",
              "version_major": 2,
              "version_minor": 0
            },
            "text/plain": [
              "tokenizer.json:   0%|          | 0.00/466k [00:00<?, ?B/s]"
            ]
          },
          "metadata": {},
          "output_type": "display_data"
        },
        {
          "data": {
            "application/vnd.jupyter.widget-view+json": {
              "model_id": "3f0f350c3acf4f6788a714d90eca93b1",
              "version_major": 2,
              "version_minor": 0
            },
            "text/plain": [
              "config.json:   0%|          | 0.00/570 [00:00<?, ?B/s]"
            ]
          },
          "metadata": {},
          "output_type": "display_data"
        },
        {
          "data": {
            "application/vnd.jupyter.widget-view+json": {
              "model_id": "705ac87b133e40a38f16396e9a985606",
              "version_major": 2,
              "version_minor": 0
            },
            "text/plain": [
              "model.safetensors:   0%|          | 0.00/440M [00:00<?, ?B/s]"
            ]
          },
          "metadata": {},
          "output_type": "display_data"
        }
      ],
      "source": [
        "import torch\n",
        "from transformers import BertTokenizer, BertModel\n",
        "\n",
        "tokenizer = BertTokenizer.from_pretrained('bert-base-uncased')\n",
        "model = BertModel.from_pretrained('bert-base-uncased')"
      ]
    },
    {
      "cell_type": "code",
      "execution_count": null,
      "metadata": {
        "execution": {
          "iopub.execute_input": "2025-03-11T17:28:56.225522Z",
          "iopub.status.busy": "2025-03-11T17:28:56.224949Z",
          "iopub.status.idle": "2025-03-11T17:28:56.536575Z",
          "shell.execute_reply": "2025-03-11T17:28:56.535728Z",
          "shell.execute_reply.started": "2025-03-11T17:28:56.225490Z"
        },
        "trusted": true,
        "id": "iqb9vFq73EbR",
        "outputId": "177ef5fd-198b-46fe-e042-fe1535c156a7"
      },
      "outputs": [
        {
          "data": {
            "text/plain": [
              "BertModel(\n",
              "  (embeddings): BertEmbeddings(\n",
              "    (word_embeddings): Embedding(30522, 768, padding_idx=0)\n",
              "    (position_embeddings): Embedding(512, 768)\n",
              "    (token_type_embeddings): Embedding(2, 768)\n",
              "    (LayerNorm): LayerNorm((768,), eps=1e-12, elementwise_affine=True)\n",
              "    (dropout): Dropout(p=0.1, inplace=False)\n",
              "  )\n",
              "  (encoder): BertEncoder(\n",
              "    (layer): ModuleList(\n",
              "      (0-11): 12 x BertLayer(\n",
              "        (attention): BertAttention(\n",
              "          (self): BertSdpaSelfAttention(\n",
              "            (query): Linear(in_features=768, out_features=768, bias=True)\n",
              "            (key): Linear(in_features=768, out_features=768, bias=True)\n",
              "            (value): Linear(in_features=768, out_features=768, bias=True)\n",
              "            (dropout): Dropout(p=0.1, inplace=False)\n",
              "          )\n",
              "          (output): BertSelfOutput(\n",
              "            (dense): Linear(in_features=768, out_features=768, bias=True)\n",
              "            (LayerNorm): LayerNorm((768,), eps=1e-12, elementwise_affine=True)\n",
              "            (dropout): Dropout(p=0.1, inplace=False)\n",
              "          )\n",
              "        )\n",
              "        (intermediate): BertIntermediate(\n",
              "          (dense): Linear(in_features=768, out_features=3072, bias=True)\n",
              "          (intermediate_act_fn): GELUActivation()\n",
              "        )\n",
              "        (output): BertOutput(\n",
              "          (dense): Linear(in_features=3072, out_features=768, bias=True)\n",
              "          (LayerNorm): LayerNorm((768,), eps=1e-12, elementwise_affine=True)\n",
              "          (dropout): Dropout(p=0.1, inplace=False)\n",
              "        )\n",
              "      )\n",
              "    )\n",
              "  )\n",
              "  (pooler): BertPooler(\n",
              "    (dense): Linear(in_features=768, out_features=768, bias=True)\n",
              "    (activation): Tanh()\n",
              "  )\n",
              ")"
            ]
          },
          "execution_count": 24,
          "metadata": {},
          "output_type": "execute_result"
        }
      ],
      "source": [
        "device = \"cuda\" if torch.cuda.is_available() else \"cpu\"\n",
        "model.to(device) # turn to GPU"
      ]
    },
    {
      "cell_type": "code",
      "execution_count": null,
      "metadata": {
        "execution": {
          "iopub.execute_input": "2025-03-11T17:28:56.537865Z",
          "iopub.status.busy": "2025-03-11T17:28:56.537547Z",
          "iopub.status.idle": "2025-03-11T17:35:45.415637Z",
          "shell.execute_reply": "2025-03-11T17:35:45.414893Z",
          "shell.execute_reply.started": "2025-03-11T17:28:56.537833Z"
        },
        "trusted": true,
        "id": "TN96pITa3EbR"
      },
      "outputs": [],
      "source": [
        "def get_bert_embeddings_in_batches(text_list, batch_size):\n",
        "    embeddings = []\n",
        "    for i in range(0, len(text_list), batch_size):\n",
        "        batch_texts = text_list[i:i+batch_size]\n",
        "        tokens = tokenizer(batch_texts, padding=True, truncation=True, return_tensors=\"pt\").to(device)\n",
        "\n",
        "        with torch.no_grad():\n",
        "            outputs = model(**tokens)\n",
        "\n",
        "        batch_embeddings = outputs.last_hidden_state[:, 0, :].cpu().numpy()\n",
        "        embeddings.append(batch_embeddings)\n",
        "\n",
        "    return np.vstack(embeddings)\n",
        "\n",
        "\n",
        "\n",
        "X_train_bert = get_bert_embeddings_in_batches(X_train.tolist(), batch_size=256)\n",
        "X_test_bert = get_bert_embeddings_in_batches(X_test.tolist(), batch_size=256)"
      ]
    },
    {
      "cell_type": "code",
      "execution_count": null,
      "metadata": {
        "execution": {
          "iopub.execute_input": "2025-03-11T17:35:45.416879Z",
          "iopub.status.busy": "2025-03-11T17:35:45.416602Z",
          "iopub.status.idle": "2025-03-11T17:35:47.763913Z",
          "shell.execute_reply": "2025-03-11T17:35:47.763275Z",
          "shell.execute_reply.started": "2025-03-11T17:35:45.416850Z"
        },
        "id": "IaDPmzKcf-TH",
        "trusted": true
      },
      "outputs": [],
      "source": [
        "from sklearn.ensemble import RandomForestClassifier\n",
        "from xgboost import XGBClassifier\n",
        "from lightgbm import LGBMClassifier\n",
        "from sklearn.linear_model import LogisticRegression\n",
        "from sklearn.svm import LinearSVC\n",
        "from sklearn.naive_bayes import MultinomialNB\n",
        "from sklearn.metrics import accuracy_score, classification_report, roc_curve, auc\n",
        "from sklearn.calibration import CalibratedClassifierCV\n",
        "import matplotlib.pyplot as plt"
      ]
    },
    {
      "cell_type": "code",
      "execution_count": null,
      "metadata": {
        "execution": {
          "iopub.execute_input": "2025-03-11T17:35:47.765301Z",
          "iopub.status.busy": "2025-03-11T17:35:47.764595Z",
          "iopub.status.idle": "2025-03-11T17:41:22.136773Z",
          "shell.execute_reply": "2025-03-11T17:41:22.135910Z",
          "shell.execute_reply.started": "2025-03-11T17:35:47.765264Z"
        },
        "id": "R7gEuiNrfx85",
        "trusted": true,
        "outputId": "f418db27-a1ea-40c9-fc37-487f2592e2e9"
      },
      "outputs": [
        {
          "name": "stdout",
          "output_type": "stream",
          "text": [
            "\n",
            "Model: Random Forest\n",
            "Accuracy Score: 0.8983\n",
            "ROC-AUC Score: 0.9616\n",
            "\n",
            "Classification Report:\n",
            "              precision    recall  f1-score   support\n",
            "\n",
            "         0.0       0.87      0.93      0.90     11540\n",
            "         1.0       0.93      0.87      0.90     12000\n",
            "\n",
            "    accuracy                           0.90     23540\n",
            "   macro avg       0.90      0.90      0.90     23540\n",
            "weighted avg       0.90      0.90      0.90     23540\n",
            "\n",
            "--------------------------------------------------\n",
            "\n",
            "Model: XGBoost\n",
            "Accuracy Score: 0.9152\n",
            "ROC-AUC Score: 0.9689\n",
            "\n",
            "Classification Report:\n",
            "              precision    recall  f1-score   support\n",
            "\n",
            "         0.0       0.91      0.92      0.91     11540\n",
            "         1.0       0.92      0.91      0.92     12000\n",
            "\n",
            "    accuracy                           0.92     23540\n",
            "   macro avg       0.92      0.92      0.92     23540\n",
            "weighted avg       0.92      0.92      0.92     23540\n",
            "\n",
            "--------------------------------------------------\n",
            "[LightGBM] [Info] Number of positive: 48000, number of negative: 46156\n",
            "[LightGBM] [Info] Auto-choosing col-wise multi-threading, the overhead of testing was 0.856066 seconds.\n",
            "You can set `force_col_wise=true` to remove the overhead.\n",
            "[LightGBM] [Info] Total Bins 195840\n",
            "[LightGBM] [Info] Number of data points in the train set: 94156, number of used features: 768\n",
            "[LightGBM] [Info] [binary:BoostFromScore]: pavg=0.509792 -> initscore=0.039174\n",
            "[LightGBM] [Info] Start training from score 0.039174\n",
            "\n",
            "Model: LightGBM\n",
            "Accuracy Score: 0.9085\n",
            "ROC-AUC Score: 0.9663\n",
            "\n",
            "Classification Report:\n",
            "              precision    recall  f1-score   support\n",
            "\n",
            "         0.0       0.90      0.91      0.91     11540\n",
            "         1.0       0.92      0.90      0.91     12000\n",
            "\n",
            "    accuracy                           0.91     23540\n",
            "   macro avg       0.91      0.91      0.91     23540\n",
            "weighted avg       0.91      0.91      0.91     23540\n",
            "\n",
            "--------------------------------------------------\n",
            "\n",
            "Model: Logistic Regression\n",
            "Accuracy Score: 0.9165\n",
            "ROC-AUC Score: 0.9695\n",
            "\n",
            "Classification Report:\n",
            "              precision    recall  f1-score   support\n",
            "\n",
            "         0.0       0.92      0.91      0.91     11540\n",
            "         1.0       0.92      0.92      0.92     12000\n",
            "\n",
            "    accuracy                           0.92     23540\n",
            "   macro avg       0.92      0.92      0.92     23540\n",
            "weighted avg       0.92      0.92      0.92     23540\n",
            "\n",
            "--------------------------------------------------\n",
            "\n",
            "Model: LinearSVC\n",
            "Accuracy Score: 0.9167\n",
            "ROC-AUC Score: 0.9697\n",
            "\n",
            "Classification Report:\n",
            "              precision    recall  f1-score   support\n",
            "\n",
            "         0.0       0.92      0.91      0.91     11540\n",
            "         1.0       0.92      0.92      0.92     12000\n",
            "\n",
            "    accuracy                           0.92     23540\n",
            "   macro avg       0.92      0.92      0.92     23540\n",
            "weighted avg       0.92      0.92      0.92     23540\n",
            "\n",
            "--------------------------------------------------\n"
          ]
        },
        {
          "data": {
            "image/png": "[encoded data removed]",
            "text/plain": [
              "<Figure size 700x700 with 1 Axes>"
            ]
          },
          "metadata": {},
          "output_type": "display_data"
        }
      ],
      "source": [
        "colors = ['blue', 'red', 'green', 'purple', 'orange', 'cyan']\n",
        "\n",
        "models = {\n",
        "    \"Random Forest\": RandomForestClassifier(random_state=42, n_jobs=-1),\n",
        "    \"XGBoost\": XGBClassifier(random_state=42, n_jobs=-1),\n",
        "    \"LightGBM\": LGBMClassifier(random_state=42, n_jobs=-1),\n",
        "    \"Logistic Regression\": LogisticRegression(random_state=42),\n",
        "    # \"Naive Bayes\": MultinomialNB(),\n",
        "    \"LinearSVC\": CalibratedClassifierCV(LinearSVC(random_state=42, dual=False), method='sigmoid')\n",
        "}\n",
        "\n",
        "results = []\n",
        "plt.figure(figsize=(7, 7))\n",
        "\n",
        "for idx, (name, model) in enumerate(models.items()):\n",
        "    model.fit(X_train_bert, Y_train)\n",
        "    Y_pred = model.predict(X_test_bert)\n",
        "    accuracy = accuracy_score(Y_test, Y_pred)\n",
        "\n",
        "    # probability\n",
        "    if hasattr(model, \"predict_proba\"):\n",
        "        Y_pred_proba = model.predict_proba(X_test_bert)[:, 1]\n",
        "    else:\n",
        "        Y_pred_proba = model.decision_function(X_test_bert)  # for SVM\n",
        "\n",
        "    # ROC-AUC\n",
        "    fpr, tpr, _ = roc_curve(Y_test, Y_pred_proba)\n",
        "    roc_auc = auc(fpr, tpr)\n",
        "    results.append((name, accuracy, roc_auc))\n",
        "\n",
        "    plt.plot(fpr, tpr, color=colors[idx], lw=2, label=f'{name} (AUC = {roc_auc:.2f})')\n",
        "\n",
        "    # result\n",
        "    print(f\"\\nModel: {name}\")\n",
        "    print(f\"Accuracy Score: {accuracy:.4f}\")\n",
        "    print(f\"ROC-AUC Score: {roc_auc:.4f}\")\n",
        "    print(\"\\nClassification Report:\")\n",
        "    print(classification_report(Y_test, Y_pred))\n",
        "    print(\"-\" * 50)\n",
        "\n",
        "plt.plot([0, 1], [0, 1], color='navy', lw=2, linestyle='--')\n",
        "plt.xlim([0.0, 1.0])\n",
        "plt.ylim([0.0, 1.05])\n",
        "plt.xlabel('False Positive Rate')\n",
        "plt.ylabel('True Positive Rate')\n",
        "plt.title('Receiver operating characteristic example')\n",
        "plt.legend(loc=\"lower right\")\n",
        "plt.show()"
      ]
    },
    {
      "cell_type": "markdown",
      "metadata": {
        "id": "KDAjlLE6lP71"
      },
      "source": [
        "## Deep Learning and Transfer Learning"
      ]
    },
    {
      "cell_type": "code",
      "execution_count": null,
      "metadata": {
        "execution": {
          "iopub.execute_input": "2025-03-11T18:03:03.576841Z",
          "iopub.status.busy": "2025-03-11T18:03:03.576548Z",
          "iopub.status.idle": "2025-03-11T18:03:03.753038Z",
          "shell.execute_reply": "2025-03-11T18:03:03.752290Z",
          "shell.execute_reply.started": "2025-03-11T18:03:03.576819Z"
        },
        "id": "rnLGkhFBlQzh",
        "trusted": true,
        "outputId": "789a0088-f2fe-4328-ba46-e2544f6e1dc4"
      },
      "outputs": [
        {
          "name": "stdout",
          "output_type": "stream",
          "text": [
            "<class 'pandas.core.frame.DataFrame'>\n",
            "RangeIndex: 294240 entries, 0 to 294239\n",
            "Data columns (total 5 columns):\n",
            " #   Column     Non-Null Count   Dtype  \n",
            "---  ------     --------------   -----  \n",
            " 0   verified   294240 non-null  bool   \n",
            " 1   asin       294240 non-null  object \n",
            " 2   text       294240 non-null  object \n",
            " 3   sentiment  294240 non-null  float64\n",
            " 4   text_orig  294240 non-null  object \n",
            "dtypes: bool(1), float64(1), object(3)\n",
            "memory usage: 9.3+ MB\n"
          ]
        }
      ],
      "source": [
        "df.info()"
      ]
    },
    {
      "cell_type": "code",
      "execution_count": null,
      "metadata": {
        "execution": {
          "iopub.execute_input": "2025-03-11T18:03:06.676682Z",
          "iopub.status.busy": "2025-03-11T18:03:06.676373Z",
          "iopub.status.idle": "2025-03-11T18:03:06.738046Z",
          "shell.execute_reply": "2025-03-11T18:03:06.737311Z",
          "shell.execute_reply.started": "2025-03-11T18:03:06.676658Z"
        },
        "id": "C-ldpx1nlTCt",
        "trusted": true,
        "outputId": "7deede1e-0959-4449-d655-efc1698f2f4a"
      },
      "outputs": [
        {
          "name": "stdout",
          "output_type": "stream",
          "text": [
            "<class 'pandas.core.frame.DataFrame'>\n",
            "Index: 117696 entries, 192061 to 210191\n",
            "Data columns (total 5 columns):\n",
            " #   Column     Non-Null Count   Dtype  \n",
            "---  ------     --------------   -----  \n",
            " 0   verified   117696 non-null  bool   \n",
            " 1   asin       117696 non-null  object \n",
            " 2   text       117696 non-null  object \n",
            " 3   sentiment  117696 non-null  float64\n",
            " 4   text_orig  117696 non-null  object \n",
            "dtypes: bool(1), float64(1), object(3)\n",
            "memory usage: 4.6+ MB\n"
          ]
        }
      ],
      "source": [
        "df_40.info()"
      ]
    },
    {
      "cell_type": "code",
      "execution_count": null,
      "metadata": {
        "execution": {
          "iopub.execute_input": "2025-03-11T18:03:09.136507Z",
          "iopub.status.busy": "2025-03-11T18:03:09.136213Z",
          "iopub.status.idle": "2025-03-11T18:03:10.115667Z",
          "shell.execute_reply": "2025-03-11T18:03:10.115031Z",
          "shell.execute_reply.started": "2025-03-11T18:03:09.136485Z"
        },
        "id": "H3BNwMrSlTAk",
        "trusted": true,
        "outputId": "6a37a872-5d6c-4ccc-834f-20fbab7e05e3"
      },
      "outputs": [
        {
          "name": "stderr",
          "output_type": "stream",
          "text": [
            "Some weights of BertForSequenceClassification were not initialized from the model checkpoint at bert-base-uncased and are newly initialized: ['classifier.bias', 'classifier.weight']\n",
            "You should probably TRAIN this model on a down-stream task to be able to use it for predictions and inference.\n"
          ]
        }
      ],
      "source": [
        "from transformers import BertConfig, BertTokenizer, BertForSequenceClassification\n",
        "\n",
        "config = BertConfig.from_pretrained('bert-base-uncased', finetuning_task='binary')\n",
        "tokenizer = BertTokenizer.from_pretrained('bert-base-uncased')\n",
        "model = BertForSequenceClassification.from_pretrained('bert-base-uncased')"
      ]
    },
    {
      "cell_type": "code",
      "execution_count": null,
      "metadata": {
        "execution": {
          "iopub.execute_input": "2025-03-11T18:03:14.646256Z",
          "iopub.status.busy": "2025-03-11T18:03:14.645947Z",
          "iopub.status.idle": "2025-03-11T18:03:14.650783Z",
          "shell.execute_reply": "2025-03-11T18:03:14.650012Z",
          "shell.execute_reply.started": "2025-03-11T18:03:14.646231Z"
        },
        "id": "l8jysIItlS97",
        "trusted": true
      },
      "outputs": [],
      "source": [
        "# There is a change in behavior of the truncation while calling the encode function.\n",
        "# This produces a warning and the behavior will probably change in future\n",
        "# Currently supress the warning as described - https://github.com/huggingface/transformers/issues/5397\n",
        "import warnings; ###\n",
        "warnings.filterwarnings('ignore'); ###\n",
        "\n",
        "def get_tokens(text, tokenizer, max_seq_length, add_special_tokens=True):\n",
        "  input_ids = tokenizer.encode(text,\n",
        "                               add_special_tokens=add_special_tokens,\n",
        "                               max_length=max_seq_length,\n",
        "                               pad_to_max_length=True)\n",
        "  attention_mask = [int(id > 0) for id in input_ids]\n",
        "  assert len(input_ids) == max_seq_length\n",
        "  assert len(attention_mask) == max_seq_length\n",
        "  return (input_ids, attention_mask)\n"
      ]
    },
    {
      "cell_type": "code",
      "execution_count": 2,
      "metadata": {
        "execution": {
          "iopub.execute_input": "2025-03-11T18:03:17.118596Z",
          "iopub.status.busy": "2025-03-11T18:03:17.118307Z",
          "iopub.status.idle": "2025-03-11T18:03:17.125439Z",
          "shell.execute_reply": "2025-03-11T18:03:17.124673Z",
          "shell.execute_reply.started": "2025-03-11T18:03:17.118572Z"
        },
        "id": "M9OFs1M7lS74",
        "trusted": true
      },
      "outputs": [],
      "source": [
        "# text = \"Here is the sentence I want embeddings for.\"\n",
        "# input_ids, attention_mask = get_tokens(text,\n",
        "#                                        tokenizer,\n",
        "#                                        max_seq_length=30,\n",
        "#                                        add_special_tokens = True)\n",
        "# input_tokens = tokenizer.convert_ids_to_tokens(input_ids)\n",
        "# print (text)\n",
        "# print (input_tokens)\n",
        "# print (input_ids)\n",
        "# print (attention_mask)"
      ]
    },
    {
      "cell_type": "code",
      "execution_count": null,
      "metadata": {
        "execution": {
          "iopub.execute_input": "2025-03-11T18:03:19.876382Z",
          "iopub.status.busy": "2025-03-11T18:03:19.876072Z",
          "iopub.status.idle": "2025-03-11T18:05:03.922058Z",
          "shell.execute_reply": "2025-03-11T18:05:03.921352Z",
          "shell.execute_reply.started": "2025-03-11T18:03:19.876357Z"
        },
        "id": "1_rAt6eglS5k",
        "trusted": true,
        "outputId": "dc1e533c-11e0-4e68-ffba-9ca8cbd1018d"
      },
      "outputs": [
        {
          "name": "stdout",
          "output_type": "stream",
          "text": [
            "CPU times: user 1min 43s, sys: 334 ms, total: 1min 44s\n",
            "Wall time: 1min 44s\n"
          ]
        }
      ],
      "source": [
        "%%time\n",
        "\n",
        "from sklearn.model_selection import train_test_split\n",
        "X_train, X_test, Y_train, Y_test = train_test_split(df['text_orig'],\n",
        "                                                    df['sentiment'],\n",
        "                                                    test_size=0.2,\n",
        "                                                    random_state=42,\n",
        "                                                    stratify=df['sentiment'])\n",
        "X_train_tokens = X_train.apply(get_tokens, args=(tokenizer, 50))\n",
        "X_test_tokens = X_test.apply(get_tokens, args=(tokenizer, 50))"
      ]
    },
    {
      "cell_type": "code",
      "execution_count": null,
      "metadata": {
        "execution": {
          "iopub.execute_input": "2025-03-11T18:05:03.923365Z",
          "iopub.status.busy": "2025-03-11T18:05:03.923063Z",
          "iopub.status.idle": "2025-03-11T18:05:03.928276Z",
          "shell.execute_reply": "2025-03-11T18:05:03.927514Z",
          "shell.execute_reply.started": "2025-03-11T18:05:03.923340Z"
        },
        "id": "clhbRhl7lS3W",
        "trusted": true,
        "outputId": "1c56cb79-89d0-4071-a29e-9430928e6d11"
      },
      "outputs": [
        {
          "data": {
            "text/plain": [
              "array([([101, 3898, 2746, 2041, 2044, 1015, 3204, 102, 0, 0, 0, 0, 0, 0, 0, 0, 0, 0, 0, 0, 0, 0, 0, 0, 0, 0, 0, 0, 0, 0, 0, 0, 0, 0, 0, 0, 0, 0, 0, 0, 0, 0, 0, 0, 0, 0, 0, 0, 0, 0], [1, 1, 1, 1, 1, 1, 1, 1, 0, 0, 0, 0, 0, 0, 0, 0, 0, 0, 0, 0, 0, 0, 0, 0, 0, 0, 0, 0, 0, 0, 0, 0, 0, 0, 0, 0, 0, 0, 0, 0, 0, 0, 0, 0, 0, 0, 0, 0, 0, 0]),\n",
              "       ([101, 2023, 2003, 2026, 2117, 2161, 2007, 2023, 3528, 1998, 2009, 2003, 18783, 102, 0, 0, 0, 0, 0, 0, 0, 0, 0, 0, 0, 0, 0, 0, 0, 0, 0, 0, 0, 0, 0, 0, 0, 0, 0, 0, 0, 0, 0, 0, 0, 0, 0, 0, 0, 0], [1, 1, 1, 1, 1, 1, 1, 1, 1, 1, 1, 1, 1, 1, 0, 0, 0, 0, 0, 0, 0, 0, 0, 0, 0, 0, 0, 0, 0, 0, 0, 0, 0, 0, 0, 0, 0, 0, 0, 0, 0, 0, 0, 0, 0, 0, 0, 0, 0, 0]),\n",
              "       ([101, 16142, 18059, 1020, 3835, 1998, 1055, 11231, 2290, 102, 0, 0, 0, 0, 0, 0, 0, 0, 0, 0, 0, 0, 0, 0, 0, 0, 0, 0, 0, 0, 0, 0, 0, 0, 0, 0, 0, 0, 0, 0, 0, 0, 0, 0, 0, 0, 0, 0, 0, 0], [1, 1, 1, 1, 1, 1, 1, 1, 1, 1, 0, 0, 0, 0, 0, 0, 0, 0, 0, 0, 0, 0, 0, 0, 0, 0, 0, 0, 0, 0, 0, 0, 0, 0, 0, 0, 0, 0, 0, 0, 0, 0, 0, 0, 0, 0, 0, 0, 0, 0]),\n",
              "       ...,\n",
              "       ([101, 2293, 2023, 4392, 1998, 2009, 1005, 1055, 2302, 2004, 19362, 15464, 2063, 1012, 102, 0, 0, 0, 0, 0, 0, 0, 0, 0, 0, 0, 0, 0, 0, 0, 0, 0, 0, 0, 0, 0, 0, 0, 0, 0, 0, 0, 0, 0, 0, 0, 0, 0, 0, 0], [1, 1, 1, 1, 1, 1, 1, 1, 1, 1, 1, 1, 1, 1, 1, 0, 0, 0, 0, 0, 0, 0, 0, 0, 0, 0, 0, 0, 0, 0, 0, 0, 0, 0, 0, 0, 0, 0, 0, 0, 0, 0, 0, 0, 0, 0, 0, 0, 0, 0]),\n",
              "       ([101, 2106, 2025, 2147, 102, 0, 0, 0, 0, 0, 0, 0, 0, 0, 0, 0, 0, 0, 0, 0, 0, 0, 0, 0, 0, 0, 0, 0, 0, 0, 0, 0, 0, 0, 0, 0, 0, 0, 0, 0, 0, 0, 0, 0, 0, 0, 0, 0, 0, 0], [1, 1, 1, 1, 1, 0, 0, 0, 0, 0, 0, 0, 0, 0, 0, 0, 0, 0, 0, 0, 0, 0, 0, 0, 0, 0, 0, 0, 0, 0, 0, 0, 0, 0, 0, 0, 0, 0, 0, 0, 0, 0, 0, 0, 0, 0, 0, 0, 0, 0]),\n",
              "       ([101, 16142, 6669, 1998, 3504, 2307, 999, 102, 0, 0, 0, 0, 0, 0, 0, 0, 0, 0, 0, 0, 0, 0, 0, 0, 0, 0, 0, 0, 0, 0, 0, 0, 0, 0, 0, 0, 0, 0, 0, 0, 0, 0, 0, 0, 0, 0, 0, 0, 0, 0], [1, 1, 1, 1, 1, 1, 1, 1, 0, 0, 0, 0, 0, 0, 0, 0, 0, 0, 0, 0, 0, 0, 0, 0, 0, 0, 0, 0, 0, 0, 0, 0, 0, 0, 0, 0, 0, 0, 0, 0, 0, 0, 0, 0, 0, 0, 0, 0, 0, 0])],\n",
              "      dtype=object)"
            ]
          },
          "execution_count": 35,
          "metadata": {},
          "output_type": "execute_result"
        }
      ],
      "source": [
        "X_train_tokens.values"
      ]
    },
    {
      "cell_type": "code",
      "execution_count": null,
      "metadata": {
        "execution": {
          "iopub.execute_input": "2025-03-11T18:05:07.368498Z",
          "iopub.status.busy": "2025-03-11T18:05:07.368151Z",
          "iopub.status.idle": "2025-03-11T18:05:09.078267Z",
          "shell.execute_reply": "2025-03-11T18:05:09.077385Z",
          "shell.execute_reply.started": "2025-03-11T18:05:07.368468Z"
        },
        "id": "RGSLvUVZlS1H",
        "trusted": true,
        "outputId": "07e29ef6-4c3f-4d0f-fba5-c1b032b433b4"
      },
      "outputs": [
        {
          "name": "stdout",
          "output_type": "stream",
          "text": [
            "torch.Size([235392, 50])\n",
            "torch.Size([235392, 50])\n",
            "torch.Size([235392])\n"
          ]
        }
      ],
      "source": [
        "import torch\n",
        "from torch.utils.data import TensorDataset\n",
        "\n",
        "# Generate the Tensors for the id, mask and outcome vectors for the training set\n",
        "\n",
        "input_ids_train = torch.tensor(\n",
        "    [features[0] for features in X_train_tokens.values], dtype=torch.long)\n",
        "input_mask_train = torch.tensor(\n",
        "    [features[1] for features in X_train_tokens.values], dtype=torch.long)\n",
        "label_ids_train = torch.tensor(Y_train.values, dtype=torch.long)\n",
        "\n",
        "print (input_ids_train.shape)\n",
        "print (input_mask_train.shape)\n",
        "print (label_ids_train.shape)"
      ]
    },
    {
      "cell_type": "code",
      "execution_count": null,
      "metadata": {
        "execution": {
          "iopub.execute_input": "2025-03-11T18:05:09.090373Z",
          "iopub.status.busy": "2025-03-11T18:05:09.090071Z",
          "iopub.status.idle": "2025-03-11T18:05:09.106812Z",
          "shell.execute_reply": "2025-03-11T18:05:09.106154Z",
          "shell.execute_reply.started": "2025-03-11T18:05:09.090353Z"
        },
        "id": "v-dWO4s0lSyx",
        "trusted": true,
        "outputId": "a540ed5a-881a-4c2a-acc7-1584e7607cf4"
      },
      "outputs": [
        {
          "data": {
            "text/plain": [
              "tensor([  101, 16142, 18059,  1020,  3835,  1998,  1055, 11231,  2290,   102,\n",
              "            0,     0,     0,     0,     0,     0,     0,     0,     0,     0,\n",
              "            0,     0,     0,     0,     0,     0,     0,     0,     0,     0,\n",
              "            0,     0,     0,     0,     0,     0,     0,     0,     0,     0,\n",
              "            0,     0,     0,     0,     0,     0,     0,     0,     0,     0])"
            ]
          },
          "execution_count": 40,
          "metadata": {},
          "output_type": "execute_result"
        }
      ],
      "source": [
        "input_ids_train[2]"
      ]
    },
    {
      "cell_type": "code",
      "execution_count": null,
      "metadata": {
        "execution": {
          "iopub.execute_input": "2025-03-11T18:05:09.109355Z",
          "iopub.status.busy": "2025-03-11T18:05:09.109118Z",
          "iopub.status.idle": "2025-03-11T18:05:09.125192Z",
          "shell.execute_reply": "2025-03-11T18:05:09.124442Z",
          "shell.execute_reply.started": "2025-03-11T18:05:09.109336Z"
        },
        "id": "JSNYTC33lSwI",
        "trusted": true
      },
      "outputs": [],
      "source": [
        "# Generate the Tensor for the training dataset\n",
        "train_dataset = TensorDataset(input_ids_train,input_mask_train,label_ids_train)"
      ]
    },
    {
      "cell_type": "code",
      "execution_count": null,
      "metadata": {
        "execution": {
          "iopub.execute_input": "2025-03-11T18:05:09.126526Z",
          "iopub.status.busy": "2025-03-11T18:05:09.126281Z",
          "iopub.status.idle": "2025-03-11T18:05:09.572533Z",
          "shell.execute_reply": "2025-03-11T18:05:09.571656Z",
          "shell.execute_reply.started": "2025-03-11T18:05:09.126506Z"
        },
        "id": "obHiRPMyluk5",
        "trusted": true
      },
      "outputs": [],
      "source": [
        "# Generate the input vector and matrix tensors for the test set\n",
        "\n",
        "input_ids_test = torch.tensor([features[0] for features in X_test_tokens.values],\n",
        "                              dtype=torch.long)\n",
        "input_mask_test = torch.tensor([features[1] for features in X_test_tokens.values],\n",
        "                               dtype=torch.long)\n",
        "label_ids_test = torch.tensor(Y_test.values,\n",
        "                              dtype=torch.long)\n",
        "test_dataset = TensorDataset(input_ids_test, input_mask_test, label_ids_test)"
      ]
    },
    {
      "cell_type": "code",
      "execution_count": null,
      "metadata": {
        "execution": {
          "iopub.execute_input": "2025-03-11T18:05:09.573784Z",
          "iopub.status.busy": "2025-03-11T18:05:09.573534Z",
          "iopub.status.idle": "2025-03-11T18:05:09.581609Z",
          "shell.execute_reply": "2025-03-11T18:05:09.580718Z",
          "shell.execute_reply.started": "2025-03-11T18:05:09.573762Z"
        },
        "id": "La_4zk7hluiT",
        "trusted": true,
        "outputId": "a08b77f5-0490-452e-cd2f-29fb843b0569"
      },
      "outputs": [
        {
          "name": "stdout",
          "output_type": "stream",
          "text": [
            "Num training examples =  235392\n",
            "Train batch size  =  64\n",
            "Num training steps in an epoch =  3678\n",
            "Num Epochs =  2\n",
            "Total num training steps =  7356\n"
          ]
        }
      ],
      "source": [
        "# provide the training batch information\n",
        "\n",
        "from torch.utils.data import DataLoader, RandomSampler\n",
        "\n",
        "train_batch_size = 64\n",
        "num_train_epochs = 2\n",
        "\n",
        "train_sampler = RandomSampler(train_dataset)\n",
        "train_dataloader = DataLoader(train_dataset,\n",
        "                              sampler=train_sampler,\n",
        "                              batch_size=train_batch_size)\n",
        "t_total = len(train_dataloader) * num_train_epochs\n",
        "\n",
        "print (\"Num training examples = \", len(train_dataset))\n",
        "print (\"Train batch size  = \", train_batch_size)\n",
        "print (\"Num training steps in an epoch = \", len(train_dataloader))\n",
        "print (\"Num Epochs = \", num_train_epochs)\n",
        "print (\"Total num training steps = \", t_total)"
      ]
    },
    {
      "cell_type": "code",
      "execution_count": null,
      "metadata": {
        "execution": {
          "iopub.execute_input": "2025-03-11T18:05:09.582891Z",
          "iopub.status.busy": "2025-03-11T18:05:09.582565Z",
          "iopub.status.idle": "2025-03-11T18:05:09.628305Z",
          "shell.execute_reply": "2025-03-11T18:05:09.627702Z",
          "shell.execute_reply.started": "2025-03-11T18:05:09.582863Z"
        },
        "id": "eqwPmimdlufn",
        "trusted": true
      },
      "outputs": [],
      "source": [
        "# provide the training parameters optimization\n",
        "\n",
        "from transformers import AdamW, get_linear_schedule_with_warmup\n",
        "\n",
        "learning_rate = 1e-4\n",
        "adam_epsilon = 1e-8\n",
        "warmup_steps = 0\n",
        "\n",
        "optimizer = AdamW(model.parameters(), lr=learning_rate, eps=adam_epsilon)\n",
        "scheduler = get_linear_schedule_with_warmup(optimizer,\n",
        "                                            num_warmup_steps=warmup_steps,\n",
        "                                            num_training_steps=t_total)"
      ]
    },
    {
      "cell_type": "code",
      "execution_count": null,
      "metadata": {
        "execution": {
          "iopub.execute_input": "2025-03-11T18:05:09.629373Z",
          "iopub.status.busy": "2025-03-11T18:05:09.629146Z",
          "iopub.status.idle": "2025-03-11T18:40:53.340675Z",
          "shell.execute_reply": "2025-03-11T18:40:53.339987Z",
          "shell.execute_reply.started": "2025-03-11T18:05:09.629355Z"
        },
        "id": "g_ajEucLl2Tb",
        "trusted": true,
        "colab": {
          "referenced_widgets": [
            "9ce5cc13ca4a48abad415b82369ba566",
            "8c6fb923b4a048ab85566928994ba7d6"
          ]
        },
        "outputId": "1e078987-f2cf-42db-b2b5-c9c71eabe466"
      },
      "outputs": [
        {
          "name": "stderr",
          "output_type": "stream",
          "text": [
            "Epoch:   0%|          | 0/2 [00:00<?, ?it/s]"
          ]
        },
        {
          "data": {
            "application/vnd.jupyter.widget-view+json": {
              "model_id": "9ce5cc13ca4a48abad415b82369ba566",
              "version_major": 2,
              "version_minor": 0
            },
            "text/plain": [
              "Iteration:   0%|          | 0/3678 [00:00<?, ?it/s]"
            ]
          },
          "metadata": {},
          "output_type": "display_data"
        },
        {
          "name": "stdout",
          "output_type": "stream",
          "text": [
            "0.071522"
          ]
        },
        {
          "name": "stderr",
          "output_type": "stream",
          "text": [
            "Epoch:  50%|█████     | 1/2 [17:46<17:46, 1066.98s/it]"
          ]
        },
        {
          "data": {
            "application/vnd.jupyter.widget-view+json": {
              "model_id": "8c6fb923b4a048ab85566928994ba7d6",
              "version_major": 2,
              "version_minor": 0
            },
            "text/plain": [
              "Iteration:   0%|          | 0/3678 [00:00<?, ?it/s]"
            ]
          },
          "metadata": {},
          "output_type": "display_data"
        },
        {
          "name": "stdout",
          "output_type": "stream",
          "text": [
            "0.055968"
          ]
        },
        {
          "name": "stderr",
          "output_type": "stream",
          "text": [
            "Epoch: 100%|██████████| 2/2 [35:43<00:00, 1071.85s/it]"
          ]
        },
        {
          "name": "stdout",
          "output_type": "stream",
          "text": [
            "CPU times: user 25min 13s, sys: 10min 35s, total: 35min 48s\n",
            "Wall time: 35min 43s\n"
          ]
        },
        {
          "name": "stderr",
          "output_type": "stream",
          "text": [
            "\n"
          ]
        }
      ],
      "source": [
        "%%time\n",
        "from tqdm import trange, notebook\n",
        "\n",
        "device = torch.device(\"cuda\" if torch.cuda.is_available() else \"cpu\")\n",
        "train_iterator = trange(num_train_epochs, desc=\"Epoch\")\n",
        "\n",
        "## Put model in 'train' mode\n",
        "model.train()\n",
        "\n",
        "for epoch in train_iterator:\n",
        "    epoch_iterator = notebook.tqdm(train_dataloader, desc=\"Iteration\")\n",
        "    for step, batch in enumerate(epoch_iterator):\n",
        "\n",
        "        ## Reset all gradients at start of every iteration\n",
        "        model.zero_grad()\n",
        "\n",
        "        ## Put the model and the input observations to GPU\n",
        "        model.to(device)\n",
        "        batch = tuple(t.to(device) for t in batch)\n",
        "\n",
        "        ## Identify the inputs to the model\n",
        "        inputs = {'input_ids':      batch[0],\n",
        "                  'attention_mask': batch[1],\n",
        "                  'labels':         batch[2]}\n",
        "\n",
        "        ## Forward Pass through the model. Input -> Model -> Output\n",
        "        outputs = model(**inputs)\n",
        "\n",
        "        ## Determine the deviation (loss)\n",
        "        loss = outputs[0]\n",
        "        print(\"\\r%f\" % loss, end='')\n",
        "\n",
        "        ## Back-propogate the loss (automatically calculates gradients)\n",
        "        loss.backward()\n",
        "\n",
        "        ## Prevent exploding gradients by limiting gradients to 1.0\n",
        "        torch.nn.utils.clip_grad_norm_(model.parameters(), 1.0)\n",
        "\n",
        "        ## Update the parameters and learning rate\n",
        "        optimizer.step()\n",
        "        scheduler.step()"
      ]
    },
    {
      "cell_type": "code",
      "execution_count": null,
      "metadata": {
        "execution": {
          "iopub.execute_input": "2025-03-11T18:40:53.341661Z",
          "iopub.status.busy": "2025-03-11T18:40:53.341382Z",
          "iopub.status.idle": "2025-03-11T18:40:53.851986Z",
          "shell.execute_reply": "2025-03-11T18:40:53.851349Z",
          "shell.execute_reply.started": "2025-03-11T18:40:53.341638Z"
        },
        "id": "YhhIKJhql2RA",
        "trusted": true
      },
      "outputs": [],
      "source": [
        "model.save_pretrained('outputs')"
      ]
    },
    {
      "cell_type": "code",
      "execution_count": null,
      "metadata": {
        "execution": {
          "iopub.execute_input": "2025-03-11T18:40:53.853116Z",
          "iopub.status.busy": "2025-03-11T18:40:53.852829Z",
          "iopub.status.idle": "2025-03-11T18:42:17.208755Z",
          "shell.execute_reply": "2025-03-11T18:42:17.207918Z",
          "shell.execute_reply.started": "2025-03-11T18:40:53.853087Z"
        },
        "id": "FxbuzXTPl2Ob",
        "trusted": true,
        "colab": {
          "referenced_widgets": [
            "477e32f977c14ebbb13b25b36d69b1cf"
          ]
        },
        "outputId": "1bffb84d-d602-49fc-8153-8d939680d551"
      },
      "outputs": [
        {
          "data": {
            "application/vnd.jupyter.widget-view+json": {
              "model_id": "477e32f977c14ebbb13b25b36d69b1cf",
              "version_major": 2,
              "version_minor": 0
            },
            "text/plain": [
              "Evaluating:   0%|          | 0/920 [00:00<?, ?it/s]"
            ]
          },
          "metadata": {},
          "output_type": "display_data"
        },
        {
          "name": "stdout",
          "output_type": "stream",
          "text": [
            "CPU times: user 1min 23s, sys: 215 ms, total: 1min 23s\n",
            "Wall time: 1min 23s\n"
          ]
        }
      ],
      "source": [
        "%%time\n",
        "\n",
        "import numpy as np\n",
        "from torch.utils.data import SequentialSampler\n",
        "from tqdm import trange, notebook\n",
        "import torch.nn.functional as F\n",
        "\n",
        "device = torch.device(\"cuda\" if torch.cuda.is_available() else \"cpu\")\n",
        "\n",
        "test_batch_size = 64\n",
        "test_sampler = SequentialSampler(test_dataset)\n",
        "test_dataloader = DataLoader(test_dataset,\n",
        "                             sampler=test_sampler,\n",
        "                             batch_size=test_batch_size)\n",
        "\n",
        "# Load the pre-trained model that was saved earlier\n",
        "model = model.from_pretrained('./outputs')\n",
        "\n",
        "\n",
        "# Initialize the prediction and actual labels\n",
        "preds = None\n",
        "out_label_ids = None\n",
        "probs = None\n",
        "\n",
        "## Put model in \"eval\" mode\n",
        "model.eval()\n",
        "\n",
        "for batch in notebook.tqdm(test_dataloader, desc=\"Evaluating\"):\n",
        "\n",
        "    ## Put the model and the input observations to GPU\n",
        "    model.to(device)\n",
        "    batch = tuple(t.to(device) for t in batch)\n",
        "\n",
        "    ## Do not track any gradients since in 'eval' mode\n",
        "    with torch.no_grad():\n",
        "        inputs = {'input_ids':      batch[0],\n",
        "                  'attention_mask': batch[1],\n",
        "                  'labels':         batch[2]}\n",
        "\n",
        "        ## Forward pass through the model\n",
        "        outputs = model(**inputs)\n",
        "\n",
        "        ## We get loss since we provided the labels\n",
        "        tmp_eval_loss, logits = outputs[:2]\n",
        "\n",
        "        ## There maybe more than one batch of items in the test dataset\n",
        "        if preds is None:\n",
        "            preds = logits.detach().cpu().numpy()\n",
        "            out_label_ids = inputs['labels'].detach().cpu().numpy()\n",
        "            probs = F.softmax(logits, dim=-1).cpu().numpy()\n",
        "        else:\n",
        "            preds = np.append(preds, logits.detach().cpu().numpy(), axis=0)\n",
        "            out_label_ids = np.append(out_label_ids,\n",
        "                                      inputs['labels'].detach().cpu().numpy(),\n",
        "                                      axis=0)\n",
        "            probs = np.append(probs, F.softmax(logits, dim=-1).cpu().numpy(), axis=0)\n"
      ]
    },
    {
      "cell_type": "code",
      "execution_count": null,
      "metadata": {
        "execution": {
          "iopub.execute_input": "2025-03-11T18:42:17.209704Z",
          "iopub.status.busy": "2025-03-11T18:42:17.209490Z",
          "iopub.status.idle": "2025-03-11T18:42:17.216324Z",
          "shell.execute_reply": "2025-03-11T18:42:17.215525Z",
          "shell.execute_reply.started": "2025-03-11T18:42:17.209683Z"
        },
        "id": "ruRgv56ql2L8",
        "trusted": true,
        "outputId": "996ebe72-c2b6-4729-bf52-065501c780f3"
      },
      "outputs": [
        {
          "name": "stdout",
          "output_type": "stream",
          "text": [
            "Accuracy Score on Test data  0.955971315932572\n"
          ]
        }
      ],
      "source": [
        "## Get final loss, predictions and accuracy\n",
        "from sklearn.metrics import accuracy_score\n",
        "preds = np.argmax(preds, axis=1)\n",
        "acc_score = accuracy_score(out_label_ids,preds)\n",
        "print ('Accuracy Score on Test data ', acc_score)"
      ]
    },
    {
      "cell_type": "code",
      "execution_count": null,
      "metadata": {
        "execution": {
          "iopub.execute_input": "2025-03-11T18:42:17.217348Z",
          "iopub.status.busy": "2025-03-11T18:42:17.217084Z",
          "iopub.status.idle": "2025-03-11T18:42:17.245396Z",
          "shell.execute_reply": "2025-03-11T18:42:17.244623Z",
          "shell.execute_reply.started": "2025-03-11T18:42:17.217326Z"
        },
        "id": "vX2cO5r5l2Jj",
        "trusted": true,
        "outputId": "2aa8c809-25ba-4ca4-e77e-0f1a6af5f3e4"
      },
      "outputs": [
        {
          "name": "stdout",
          "output_type": "stream",
          "text": [
            "ROC AUC on test data  0.9885417949251247\n"
          ]
        }
      ],
      "source": [
        "## ROC AUC Score\n",
        "from sklearn.metrics import roc_auc_score\n",
        "auc = roc_auc_score(out_label_ids, probs[:,1])\n",
        "print('ROC AUC on test data ', auc)"
      ]
    },
    {
      "cell_type": "code",
      "execution_count": null,
      "metadata": {
        "id": "v0FsrNafl2Hb",
        "trusted": true
      },
      "outputs": [],
      "source": []
    },
    {
      "cell_type": "code",
      "execution_count": null,
      "metadata": {
        "id": "R-h5PYQdl2E9",
        "trusted": true
      },
      "outputs": [],
      "source": []
    },
    {
      "cell_type": "code",
      "execution_count": null,
      "metadata": {
        "id": "ZZ7LwBdYl2Ct",
        "trusted": true
      },
      "outputs": [],
      "source": []
    },
    {
      "cell_type": "code",
      "execution_count": null,
      "metadata": {
        "id": "d96sPlfEl2Ab",
        "trusted": true
      },
      "outputs": [],
      "source": []
    },
    {
      "cell_type": "code",
      "execution_count": null,
      "metadata": {
        "id": "KVFG-P_yl1-D",
        "trusted": true
      },
      "outputs": [],
      "source": []
    },
    {
      "cell_type": "code",
      "execution_count": null,
      "metadata": {
        "id": "Xq2Po8pNl17l",
        "trusted": true
      },
      "outputs": [],
      "source": []
    },
    {
      "cell_type": "code",
      "execution_count": null,
      "metadata": {
        "id": "i_0VM0uTl15L",
        "trusted": true
      },
      "outputs": [],
      "source": []
    },
    {
      "cell_type": "code",
      "execution_count": null,
      "metadata": {
        "id": "82Fvoy1Fl12n",
        "trusted": true
      },
      "outputs": [],
      "source": []
    }
  ],
  "metadata": {
    "accelerator": "GPU",
    "colab": {
      "gpuType": "T4",
      "provenance": []
    },
    "kaggle": {
      "accelerator": "gpu",
      "dataSources": [
        {
          "datasetId": 6837937,
          "sourceId": 10986462,
          "sourceType": "datasetVersion"
        }
      ],
      "dockerImageVersionId": 30919,
      "isGpuEnabled": true,
      "isInternetEnabled": true,
      "language": "python",
      "sourceType": "notebook"
    },
    "kernelspec": {
      "display_name": "Python 3",
      "language": "python",
      "name": "python3"
    },
    "language_info": {
      "codemirror_mode": {
        "name": "ipython",
        "version": 3
      },
      "file_extension": ".py",
      "mimetype": "text/x-python",
      "name": "python",
      "nbconvert_exporter": "python",
      "pygments_lexer": "ipython3",
      "version": "3.10.12"
    }
  },
  "nbformat": 4,
  "nbformat_minor": 0
}